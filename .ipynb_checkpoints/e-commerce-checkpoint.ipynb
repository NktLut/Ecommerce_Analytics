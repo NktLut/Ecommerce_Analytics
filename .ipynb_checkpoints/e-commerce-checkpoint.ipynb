{
 "cells": [
  {
   "cell_type": "markdown",
   "metadata": {},
   "source": [
    "# DATA"
   ]
  },
  {
   "cell_type": "markdown",
   "metadata": {},
   "source": [
    "Provided data description"
   ]
  },
  {
   "cell_type": "markdown",
   "metadata": {},
   "source": [
    "**1.** olist_customers_datase.csv — **Unique users IDs**   \n",
    "\n",
    "| Field | Description |\n",
    "| :--- | :--- |\n",
    "| customer_id | User ID for each order |\n",
    "| customer_unique_id | Unique user ID (like passport number) |\n",
    "| customer_zip_code_prefix | Postal code |\n",
    "| customer_city | City of shipment destination |\n",
    "| customer_state | State of shipment destination | "
   ]
  },
  {
   "cell_type": "markdown",
   "metadata": {},
   "source": [
    "**2.** olist_order_items_dataset.csv —  **Products**\n",
    "\n",
    "| Field | Description |\n",
    "| :--- | :--- |\n",
    "| order_id | Unique ID  of the order |\n",
    "| order_item_id | ID of item in one order |\n",
    "| product_id | Product ID |\n",
    "| seller_id | Supplier ID |\n",
    "| shipping_limit_date | Maximum amount of time to provide the shipment to the delivery service |\n",
    "| price | Price of item |\n",
    "| freight_value | Weight of item |"
   ]
  },
  {
   "cell_type": "markdown",
   "metadata": {},
   "source": [
    "**3.** olist_orders_dataset.csv —  **Orders**  \n",
    "\n",
    "| Field | Description |\n",
    "| :--- | :--- |\n",
    "| order_id | Unique ID  of the order |\n",
    "| customer_id | User ID for each order |\n",
    "| order_status | Order status |\n",
    "| order_purchase_timestamp | Order creation timestamp |\n",
    "| order_approved_at | Timestamp of transfering order to logistics |\n",
    "| order_delivered_carrier_date | Maximum amount of time to provide the shipment to the client |\n",
    "| order_delivered_customer_date | Real order delivery time |\n",
    "| order_estimated_delivery_date | Estimated order delivery time  |  "
   ]
  },
  {
   "cell_type": "markdown",
   "metadata": {},
   "source": [
    "**Unique order statuses** olist_orders_dataset table:\n",
    "* created\n",
    "* approved\n",
    "* invoiced\n",
    "* processing\n",
    "* shipped\n",
    "* delivered\n",
    "* unavailable\n",
    "* canceled"
   ]
  },
  {
   "cell_type": "code",
   "execution_count": 1,
   "metadata": {},
   "outputs": [
    {
     "data": {
      "text/html": [
       "<!-- Moving tables to the right -->\n",
       "<style>table {float:left}</style> \n"
      ],
      "text/plain": [
       "<IPython.core.display.HTML object>"
      ]
     },
     "metadata": {},
     "output_type": "display_data"
    }
   ],
   "source": [
    "%%html\n",
    "<!-- Moving tables to the right -->\n",
    "<style>table {float:left}</style> "
   ]
  },
  {
   "cell_type": "markdown",
   "metadata": {},
   "source": [
    "  \n",
    "  "
   ]
  },
  {
   "cell_type": "markdown",
   "metadata": {},
   "source": [
    "# Modules"
   ]
  },
  {
   "cell_type": "code",
   "execution_count": 2,
   "metadata": {},
   "outputs": [],
   "source": [
    "# Data extraction\n",
    "import requests\n",
    "import urllib\n",
    "import json\n",
    "\n",
    "# Data analysis\n",
    "import pandas as pd\n",
    "import numpy as np\n",
    "\n",
    "# Viz\n",
    "import matplotlib.pyplot as plt\n",
    "import seaborn as sns\n",
    "\n",
    "# Additional module for RFM\n",
    "from rfm_secondary_funcs import scorer, segmenter"
   ]
  },
  {
   "cell_type": "markdown",
   "metadata": {},
   "source": [
    "# Seaborn 'by default' settings for this doc"
   ]
  },
  {
   "cell_type": "code",
   "execution_count": 3,
   "metadata": {},
   "outputs": [],
   "source": [
    "plot_params = {'figure.titlesize': 22,\n",
    "               'axes.titlesize': 22,\n",
    "               'axes.labelsize': 14,\n",
    "               'axes.titlepad': 20,\n",
    "               'legend.fontsize': 18,\n",
    "               'legend.title_fontsize': 18                                   \n",
    "              }\n",
    "\n",
    "sns.set_theme(style=\"whitegrid\", palette=\"RdYlBu_r\", rc=plot_params)"
   ]
  },
  {
   "cell_type": "markdown",
   "metadata": {},
   "source": [
    "# Data extraction"
   ]
  },
  {
   "cell_type": "code",
   "execution_count": 4,
   "metadata": {},
   "outputs": [],
   "source": [
    "# Public disk storage URL\n",
    "yandex_api = 'https://cloud-api.yandex.net/v1/disk/public/resources/download?' \n",
    "\n",
    "# Exact download requests URLs for an API will be stored here\n",
    "data_download_urls = []\n",
    "\n",
    "# Tables URLs\n",
    "olist_customers_datase_url    = 'https://disk.yandex.ru/d/FUi5uSd6BfG_ig'\n",
    "olist_orders_dataset_url      = 'https://disk.yandex.ru/d/t9Li4JOfgxuUrg'\n",
    "olist_order_items_dataset_url = 'https://disk.yandex.ru/d/Gbt-yAcQrOe3Pw'\n",
    "\n",
    "disk_urls = [olist_customers_datase_url, olist_orders_dataset_url, olist_order_items_dataset_url]"
   ]
  },
  {
   "cell_type": "code",
   "execution_count": 5,
   "metadata": {},
   "outputs": [],
   "source": [
    "# Filling the list \n",
    "for disk_url in disk_urls:\n",
    "    # Creating request for an API\n",
    "    url = yandex_api + urllib.parse.urlencode(dict(public_key=disk_url))        \n",
    "    \n",
    "    # Request and get data link \n",
    "    r = requests.get(url)\n",
    "    h = json.loads(r.text)['href']\n",
    "    \n",
    "    # Appending the list\n",
    "    data_download_urls.append(h)"
   ]
  },
  {
   "cell_type": "code",
   "execution_count": 6,
   "metadata": {},
   "outputs": [],
   "source": [
    "# Consuming we already know the fields, that contain dates, we will try to parse them on read.\n",
    "date_fields = ['order_purchase_timestamp', 'order_approved_at', 'order_delivered_carrier_date',\n",
    "               'order_delivered_customer_date', 'order_estimated_delivery_date']\n",
    "\n",
    "\n",
    "# Создаем датафреймы из полученных ссылок. Сразу парсим даты в удобный формат данных.\n",
    "users    = pd.read_csv(data_download_urls[0], sep=',')\n",
    "orders   = pd.read_csv(data_download_urls[1], sep=',', parse_dates=date_fields)\n",
    "products = pd.read_csv(data_download_urls[2], sep=',', parse_dates=['shipping_limit_date'])"
   ]
  },
  {
   "cell_type": "markdown",
   "metadata": {},
   "source": [
    "  \n",
    "  "
   ]
  },
  {
   "cell_type": "markdown",
   "metadata": {},
   "source": [
    "# Pre-processing"
   ]
  },
  {
   "cell_type": "markdown",
   "metadata": {},
   "source": [
    "###  Our main goal in this report is to do couple insights based on client orders. Regarding this we should first of all decide what we will count as a successfull order."
   ]
  },
  {
   "cell_type": "markdown",
   "metadata": {},
   "source": [
    "##### Preliminary plan.\n",
    "Order is successful when:\n",
    "- order_approved_at - not null. This means that we have recived and approved the payment.  \n",
    "и\n",
    "- order_status - not unavailable and not canceled. This means that item could be supplied and order was not canceled"
   ]
  },
  {
   "cell_type": "markdown",
   "metadata": {},
   "source": [
    "Let's join the users and orders data"
   ]
  },
  {
   "cell_type": "code",
   "execution_count": 7,
   "metadata": {},
   "outputs": [],
   "source": [
    "users_orders = users.merge(orders, on='customer_id')"
   ]
  },
  {
   "cell_type": "markdown",
   "metadata": {},
   "source": [
    "Brief data review"
   ]
  },
  {
   "cell_type": "code",
   "execution_count": 8,
   "metadata": {},
   "outputs": [
    {
     "name": "stdout",
     "output_type": "stream",
     "text": [
      "Unique orders total amount: 99441 шт.\n",
      "Unique clients total amount: 96096 человек\n",
      "\n",
      "Earliest date of an order approval in provided data: 2016-09-15 12:16:38\n",
      "Latest date of an order approval in provided data: 2018-09-03 17:40:06\n",
      "\n",
      "Distribution of orders by status:\n",
      "delivered      96478\n",
      "shipped         1107\n",
      "canceled         625\n",
      "unavailable      609\n",
      "invoiced         314\n",
      "processing       301\n",
      "created            5\n",
      "approved           2\n",
      "Name: order_status, dtype: int64\n"
     ]
    }
   ],
   "source": [
    "print(f'Unique orders total amount: {users_orders.order_id.nunique()} шт.')\n",
    "print(f'Unique clients total amount: {users_orders.customer_unique_id.nunique()} человек\\n')\n",
    "\n",
    "print(f'Earliest date of an order approval in provided data: {users_orders.order_approved_at.min()}')\n",
    "print(f'Latest date of an order approval in provided data: {users_orders.order_approved_at.max()}\\n')\n",
    "\n",
    "print('Distribution of orders by status:')\n",
    "print(orders.order_status.value_counts())"
   ]
  },
  {
   "cell_type": "markdown",
   "metadata": {},
   "source": [
    "Let's take a look at orders that was  \n",
    "- paid by client  \n",
    "- not received by client\n",
    "- with status **'canceled'**"
   ]
  },
  {
   "cell_type": "code",
   "execution_count": 9,
   "metadata": {},
   "outputs": [
    {
     "name": "stdout",
     "output_type": "stream",
     "text": [
      "<class 'pandas.core.frame.DataFrame'>\n",
      "Int64Index: 478 entries, 46 to 99178\n",
      "Data columns (total 12 columns):\n",
      " #   Column                         Non-Null Count  Dtype         \n",
      "---  ------                         --------------  -----         \n",
      " 0   customer_id                    478 non-null    object        \n",
      " 1   customer_unique_id             478 non-null    object        \n",
      " 2   customer_zip_code_prefix       478 non-null    int64         \n",
      " 3   customer_city                  478 non-null    object        \n",
      " 4   customer_state                 478 non-null    object        \n",
      " 5   order_id                       478 non-null    object        \n",
      " 6   order_status                   478 non-null    object        \n",
      " 7   order_purchase_timestamp       478 non-null    datetime64[ns]\n",
      " 8   order_approved_at              478 non-null    datetime64[ns]\n",
      " 9   order_delivered_carrier_date   69 non-null     datetime64[ns]\n",
      " 10  order_delivered_customer_date  0 non-null      datetime64[ns]\n",
      " 11  order_estimated_delivery_date  478 non-null    datetime64[ns]\n",
      "dtypes: datetime64[ns](5), int64(1), object(6)\n",
      "memory usage: 48.5+ KB\n"
     ]
    }
   ],
   "source": [
    "(users_orders[users_orders.order_delivered_customer_date.isnull() & ~users_orders.order_approved_at.isnull()]\n",
    " .query('order_status == \"canceled\"')).info()"
   ]
  },
  {
   "cell_type": "markdown",
   "metadata": {},
   "source": [
    "There are 478 such orders, 69 of them was trsspased to the carrier"
   ]
  },
  {
   "cell_type": "markdown",
   "metadata": {},
   "source": [
    "We can also find **'canceled'** orders with statuses: payment approval, at carrier and even already delivered "
   ]
  },
  {
   "cell_type": "code",
   "execution_count": 10,
   "metadata": {},
   "outputs": [
    {
     "name": "stdout",
     "output_type": "stream",
     "text": [
      "<class 'pandas.core.frame.DataFrame'>\n",
      "Int64Index: 625 entries, 46 to 99178\n",
      "Data columns (total 12 columns):\n",
      " #   Column                         Non-Null Count  Dtype         \n",
      "---  ------                         --------------  -----         \n",
      " 0   customer_id                    625 non-null    object        \n",
      " 1   customer_unique_id             625 non-null    object        \n",
      " 2   customer_zip_code_prefix       625 non-null    int64         \n",
      " 3   customer_city                  625 non-null    object        \n",
      " 4   customer_state                 625 non-null    object        \n",
      " 5   order_id                       625 non-null    object        \n",
      " 6   order_status                   625 non-null    object        \n",
      " 7   order_purchase_timestamp       625 non-null    datetime64[ns]\n",
      " 8   order_approved_at              484 non-null    datetime64[ns]\n",
      " 9   order_delivered_carrier_date   75 non-null     datetime64[ns]\n",
      " 10  order_delivered_customer_date  6 non-null      datetime64[ns]\n",
      " 11  order_estimated_delivery_date  625 non-null    datetime64[ns]\n",
      "dtypes: datetime64[ns](5), int64(1), object(6)\n",
      "memory usage: 63.5+ KB\n"
     ]
    }
   ],
   "source": [
    "users_orders.query('order_status == \"canceled\"').info()"
   ]
  },
  {
   "cell_type": "markdown",
   "metadata": {},
   "source": [
    "Consuming information above let's count orders as successful only when their status is not canceled.  \n",
    "Those of canceled orders that was delivered customers should not be read as successful, because the money will be refund.  \n",
    "Regarding this let's create a dataframe of successful purchases"
   ]
  },
  {
   "cell_type": "code",
   "execution_count": 11,
   "metadata": {},
   "outputs": [],
   "source": [
    "purchases = users_orders.query('order_status != \"canceled\"')"
   ]
  },
  {
   "cell_type": "markdown",
   "metadata": {},
   "source": [
    "Now let's take a look at **'unavailable'** orders:"
   ]
  },
  {
   "cell_type": "code",
   "execution_count": 12,
   "metadata": {},
   "outputs": [
    {
     "name": "stdout",
     "output_type": "stream",
     "text": [
      "<class 'pandas.core.frame.DataFrame'>\n",
      "Int64Index: 609 entries, 288 to 99105\n",
      "Data columns (total 12 columns):\n",
      " #   Column                         Non-Null Count  Dtype         \n",
      "---  ------                         --------------  -----         \n",
      " 0   customer_id                    609 non-null    object        \n",
      " 1   customer_unique_id             609 non-null    object        \n",
      " 2   customer_zip_code_prefix       609 non-null    int64         \n",
      " 3   customer_city                  609 non-null    object        \n",
      " 4   customer_state                 609 non-null    object        \n",
      " 5   order_id                       609 non-null    object        \n",
      " 6   order_status                   609 non-null    object        \n",
      " 7   order_purchase_timestamp       609 non-null    datetime64[ns]\n",
      " 8   order_approved_at              609 non-null    datetime64[ns]\n",
      " 9   order_delivered_carrier_date   0 non-null      datetime64[ns]\n",
      " 10  order_delivered_customer_date  0 non-null      datetime64[ns]\n",
      " 11  order_estimated_delivery_date  609 non-null    datetime64[ns]\n",
      "dtypes: datetime64[ns](5), int64(1), object(6)\n",
      "memory usage: 61.9+ KB\n"
     ]
    }
   ],
   "source": [
    "purchases.query('order_status == \"unavailable\"').info()"
   ]
  },
  {
   "cell_type": "markdown",
   "metadata": {},
   "source": [
    "Unavailable orders was neither passed to the carrier or supplied to the customer.  \n",
    "However, the payment was approved for all of those orders.  \n",
    "Nevertheless, we can not count them as successful because the products can not be supplied."
   ]
  },
  {
   "cell_type": "code",
   "execution_count": 13,
   "metadata": {},
   "outputs": [],
   "source": [
    "purchases = purchases.query('order_status != \"unavailable\"')"
   ]
  },
  {
   "cell_type": "markdown",
   "metadata": {},
   "source": [
    "Obviously, new orders with status **'created'** are not successfull as well.  \n",
    "There is no approved orders having this status anyway:"
   ]
  },
  {
   "cell_type": "code",
   "execution_count": 14,
   "metadata": {},
   "outputs": [
    {
     "data": {
      "text/plain": [
       "array(['NaT'], dtype='datetime64[ns]')"
      ]
     },
     "execution_count": 14,
     "metadata": {},
     "output_type": "execute_result"
    }
   ],
   "source": [
    "purchases.query('order_status == \"created\"').order_approved_at.unique()"
   ]
  },
  {
   "cell_type": "markdown",
   "metadata": {},
   "source": [
    "Let's exclude those orders from our purchases DF"
   ]
  },
  {
   "cell_type": "code",
   "execution_count": 15,
   "metadata": {},
   "outputs": [],
   "source": [
    "purchases = purchases.query('order_status != \"created\"')"
   ]
  },
  {
   "cell_type": "markdown",
   "metadata": {},
   "source": [
    "At this stage our purchases looks like this:  "
   ]
  },
  {
   "cell_type": "code",
   "execution_count": 16,
   "metadata": {},
   "outputs": [
    {
     "name": "stdout",
     "output_type": "stream",
     "text": [
      "<class 'pandas.core.frame.DataFrame'>\n",
      "Int64Index: 98202 entries, 0 to 99440\n",
      "Data columns (total 12 columns):\n",
      " #   Column                         Non-Null Count  Dtype         \n",
      "---  ------                         --------------  -----         \n",
      " 0   customer_id                    98202 non-null  object        \n",
      " 1   customer_unique_id             98202 non-null  object        \n",
      " 2   customer_zip_code_prefix       98202 non-null  int64         \n",
      " 3   customer_city                  98202 non-null  object        \n",
      " 4   customer_state                 98202 non-null  object        \n",
      " 5   order_id                       98202 non-null  object        \n",
      " 6   order_status                   98202 non-null  object        \n",
      " 7   order_purchase_timestamp       98202 non-null  datetime64[ns]\n",
      " 8   order_approved_at              98188 non-null  datetime64[ns]\n",
      " 9   order_delivered_carrier_date   97583 non-null  datetime64[ns]\n",
      " 10  order_delivered_customer_date  96470 non-null  datetime64[ns]\n",
      " 11  order_estimated_delivery_date  98202 non-null  datetime64[ns]\n",
      "dtypes: datetime64[ns](5), int64(1), object(6)\n",
      "memory usage: 9.7+ MB\n"
     ]
    }
   ],
   "source": [
    "purchases.info()"
   ]
  },
  {
   "cell_type": "markdown",
   "metadata": {},
   "source": [
    "We still have an orders with no approval date, carrier date or client date.  \n",
    "Let's exclude orders without approval date."
   ]
  },
  {
   "cell_type": "code",
   "execution_count": 17,
   "metadata": {},
   "outputs": [],
   "source": [
    "purchases = purchases[~purchases.order_approved_at.isnull()]"
   ]
  },
  {
   "cell_type": "markdown",
   "metadata": {},
   "source": [
    "Now we have a **purchases** DF, **the orders it contains will be counted as successful**.  "
   ]
  },
  {
   "cell_type": "code",
   "execution_count": 18,
   "metadata": {},
   "outputs": [
    {
     "name": "stdout",
     "output_type": "stream",
     "text": [
      "<class 'pandas.core.frame.DataFrame'>\n",
      "Int64Index: 98188 entries, 0 to 99440\n",
      "Data columns (total 12 columns):\n",
      " #   Column                         Non-Null Count  Dtype         \n",
      "---  ------                         --------------  -----         \n",
      " 0   customer_id                    98188 non-null  object        \n",
      " 1   customer_unique_id             98188 non-null  object        \n",
      " 2   customer_zip_code_prefix       98188 non-null  int64         \n",
      " 3   customer_city                  98188 non-null  object        \n",
      " 4   customer_state                 98188 non-null  object        \n",
      " 5   order_id                       98188 non-null  object        \n",
      " 6   order_status                   98188 non-null  object        \n",
      " 7   order_purchase_timestamp       98188 non-null  datetime64[ns]\n",
      " 8   order_approved_at              98188 non-null  datetime64[ns]\n",
      " 9   order_delivered_carrier_date   97569 non-null  datetime64[ns]\n",
      " 10  order_delivered_customer_date  96456 non-null  datetime64[ns]\n",
      " 11  order_estimated_delivery_date  98188 non-null  datetime64[ns]\n",
      "dtypes: datetime64[ns](5), int64(1), object(6)\n",
      "memory usage: 9.7+ MB\n"
     ]
    }
   ],
   "source": [
    "purchases.info()"
   ]
  },
  {
   "cell_type": "markdown",
   "metadata": {},
   "source": [
    "### Pre-processing order<->product data"
   ]
  },
  {
   "cell_type": "markdown",
   "metadata": {},
   "source": [
    "Let's take a look at orders which date of delivery is unavailable while status is 'delivered'"
   ]
  },
  {
   "cell_type": "code",
   "execution_count": 19,
   "metadata": {},
   "outputs": [
    {
     "data": {
      "text/html": [
       "<div>\n",
       "<style scoped>\n",
       "    .dataframe tbody tr th:only-of-type {\n",
       "        vertical-align: middle;\n",
       "    }\n",
       "\n",
       "    .dataframe tbody tr th {\n",
       "        vertical-align: top;\n",
       "    }\n",
       "\n",
       "    .dataframe thead th {\n",
       "        text-align: right;\n",
       "    }\n",
       "</style>\n",
       "<table border=\"1\" class=\"dataframe\">\n",
       "  <thead>\n",
       "    <tr style=\"text-align: right;\">\n",
       "      <th></th>\n",
       "      <th>order_id</th>\n",
       "      <th>customer_id</th>\n",
       "      <th>order_status</th>\n",
       "      <th>order_purchase_timestamp</th>\n",
       "      <th>order_approved_at</th>\n",
       "      <th>order_delivered_carrier_date</th>\n",
       "      <th>order_delivered_customer_date</th>\n",
       "      <th>order_estimated_delivery_date</th>\n",
       "    </tr>\n",
       "  </thead>\n",
       "  <tbody>\n",
       "    <tr>\n",
       "      <th>3002</th>\n",
       "      <td>2d1e2d5bf4dc7227b3bfebb81328c15f</td>\n",
       "      <td>ec05a6d8558c6455f0cbbd8a420ad34f</td>\n",
       "      <td>delivered</td>\n",
       "      <td>2017-11-28 17:44:07</td>\n",
       "      <td>2017-11-28 17:56:40</td>\n",
       "      <td>2017-11-30 18:12:23</td>\n",
       "      <td>NaT</td>\n",
       "      <td>2017-12-18</td>\n",
       "    </tr>\n",
       "    <tr>\n",
       "      <th>20618</th>\n",
       "      <td>f5dd62b788049ad9fc0526e3ad11a097</td>\n",
       "      <td>5e89028e024b381dc84a13a3570decb4</td>\n",
       "      <td>delivered</td>\n",
       "      <td>2018-06-20 06:58:43</td>\n",
       "      <td>2018-06-20 07:19:05</td>\n",
       "      <td>2018-06-25 08:05:00</td>\n",
       "      <td>NaT</td>\n",
       "      <td>2018-07-16</td>\n",
       "    </tr>\n",
       "    <tr>\n",
       "      <th>43834</th>\n",
       "      <td>2ebdfc4f15f23b91474edf87475f108e</td>\n",
       "      <td>29f0540231702fda0cfdee0a310f11aa</td>\n",
       "      <td>delivered</td>\n",
       "      <td>2018-07-01 17:05:11</td>\n",
       "      <td>2018-07-01 17:15:12</td>\n",
       "      <td>2018-07-03 13:57:00</td>\n",
       "      <td>NaT</td>\n",
       "      <td>2018-07-30</td>\n",
       "    </tr>\n",
       "    <tr>\n",
       "      <th>79263</th>\n",
       "      <td>e69f75a717d64fc5ecdfae42b2e8e086</td>\n",
       "      <td>cfda40ca8dd0a5d486a9635b611b398a</td>\n",
       "      <td>delivered</td>\n",
       "      <td>2018-07-01 22:05:55</td>\n",
       "      <td>2018-07-01 22:15:14</td>\n",
       "      <td>2018-07-03 13:57:00</td>\n",
       "      <td>NaT</td>\n",
       "      <td>2018-07-30</td>\n",
       "    </tr>\n",
       "    <tr>\n",
       "      <th>82868</th>\n",
       "      <td>0d3268bad9b086af767785e3f0fc0133</td>\n",
       "      <td>4f1d63d35fb7c8999853b2699f5c7649</td>\n",
       "      <td>delivered</td>\n",
       "      <td>2018-07-01 21:14:02</td>\n",
       "      <td>2018-07-01 21:29:54</td>\n",
       "      <td>2018-07-03 09:28:00</td>\n",
       "      <td>NaT</td>\n",
       "      <td>2018-07-24</td>\n",
       "    </tr>\n",
       "    <tr>\n",
       "      <th>92643</th>\n",
       "      <td>2d858f451373b04fb5c984a1cc2defaf</td>\n",
       "      <td>e08caf668d499a6d643dafd7c5cc498a</td>\n",
       "      <td>delivered</td>\n",
       "      <td>2017-05-25 23:22:43</td>\n",
       "      <td>2017-05-25 23:30:16</td>\n",
       "      <td>NaT</td>\n",
       "      <td>NaT</td>\n",
       "      <td>2017-06-23</td>\n",
       "    </tr>\n",
       "    <tr>\n",
       "      <th>97647</th>\n",
       "      <td>ab7c89dc1bf4a1ead9d6ec1ec8968a84</td>\n",
       "      <td>dd1b84a7286eb4524d52af4256c0ba24</td>\n",
       "      <td>delivered</td>\n",
       "      <td>2018-06-08 12:09:39</td>\n",
       "      <td>2018-06-08 12:36:39</td>\n",
       "      <td>2018-06-12 14:10:00</td>\n",
       "      <td>NaT</td>\n",
       "      <td>2018-06-26</td>\n",
       "    </tr>\n",
       "    <tr>\n",
       "      <th>98038</th>\n",
       "      <td>20edc82cf5400ce95e1afacc25798b31</td>\n",
       "      <td>28c37425f1127d887d7337f284080a0f</td>\n",
       "      <td>delivered</td>\n",
       "      <td>2018-06-27 16:09:12</td>\n",
       "      <td>2018-06-27 16:29:30</td>\n",
       "      <td>2018-07-03 19:26:00</td>\n",
       "      <td>NaT</td>\n",
       "      <td>2018-07-19</td>\n",
       "    </tr>\n",
       "  </tbody>\n",
       "</table>\n",
       "</div>"
      ],
      "text/plain": [
       "                               order_id                       customer_id  \\\n",
       "3002   2d1e2d5bf4dc7227b3bfebb81328c15f  ec05a6d8558c6455f0cbbd8a420ad34f   \n",
       "20618  f5dd62b788049ad9fc0526e3ad11a097  5e89028e024b381dc84a13a3570decb4   \n",
       "43834  2ebdfc4f15f23b91474edf87475f108e  29f0540231702fda0cfdee0a310f11aa   \n",
       "79263  e69f75a717d64fc5ecdfae42b2e8e086  cfda40ca8dd0a5d486a9635b611b398a   \n",
       "82868  0d3268bad9b086af767785e3f0fc0133  4f1d63d35fb7c8999853b2699f5c7649   \n",
       "92643  2d858f451373b04fb5c984a1cc2defaf  e08caf668d499a6d643dafd7c5cc498a   \n",
       "97647  ab7c89dc1bf4a1ead9d6ec1ec8968a84  dd1b84a7286eb4524d52af4256c0ba24   \n",
       "98038  20edc82cf5400ce95e1afacc25798b31  28c37425f1127d887d7337f284080a0f   \n",
       "\n",
       "      order_status order_purchase_timestamp   order_approved_at  \\\n",
       "3002     delivered      2017-11-28 17:44:07 2017-11-28 17:56:40   \n",
       "20618    delivered      2018-06-20 06:58:43 2018-06-20 07:19:05   \n",
       "43834    delivered      2018-07-01 17:05:11 2018-07-01 17:15:12   \n",
       "79263    delivered      2018-07-01 22:05:55 2018-07-01 22:15:14   \n",
       "82868    delivered      2018-07-01 21:14:02 2018-07-01 21:29:54   \n",
       "92643    delivered      2017-05-25 23:22:43 2017-05-25 23:30:16   \n",
       "97647    delivered      2018-06-08 12:09:39 2018-06-08 12:36:39   \n",
       "98038    delivered      2018-06-27 16:09:12 2018-06-27 16:29:30   \n",
       "\n",
       "      order_delivered_carrier_date order_delivered_customer_date  \\\n",
       "3002           2017-11-30 18:12:23                           NaT   \n",
       "20618          2018-06-25 08:05:00                           NaT   \n",
       "43834          2018-07-03 13:57:00                           NaT   \n",
       "79263          2018-07-03 13:57:00                           NaT   \n",
       "82868          2018-07-03 09:28:00                           NaT   \n",
       "92643                          NaT                           NaT   \n",
       "97647          2018-06-12 14:10:00                           NaT   \n",
       "98038          2018-07-03 19:26:00                           NaT   \n",
       "\n",
       "      order_estimated_delivery_date  \n",
       "3002                     2017-12-18  \n",
       "20618                    2018-07-16  \n",
       "43834                    2018-07-30  \n",
       "79263                    2018-07-30  \n",
       "82868                    2018-07-24  \n",
       "92643                    2017-06-23  \n",
       "97647                    2018-06-26  \n",
       "98038                    2018-07-19  "
      ]
     },
     "execution_count": 19,
     "metadata": {},
     "output_type": "execute_result"
    }
   ],
   "source": [
    "orders[orders.order_delivered_customer_date.isnull()].query('order_status == \"delivered\"')"
   ]
  },
  {
   "cell_type": "markdown",
   "metadata": {},
   "source": [
    "We can see a discrepancy in fields 'status' and 'date of this status'.  \n",
    "We have 8 orders with delivered status, but without date of delivery.  \n",
    "One of them even was not passed to the carrier"
   ]
  },
  {
   "cell_type": "markdown",
   "metadata": {},
   "source": [
    "In this report we will count **'order_status'** more important than **'order_delivered_customer_date'**.  \n",
    "\n",
    "This means, if the order have status 'delivered', than it is realy delivered. The date of delivery was not provided because of an internal system error."
   ]
  },
  {
   "cell_type": "markdown",
   "metadata": {},
   "source": [
    "Let's join **products** and **orders** data."
   ]
  },
  {
   "cell_type": "code",
   "execution_count": 20,
   "metadata": {},
   "outputs": [],
   "source": [
    "orders_products = orders.merge(products, on='order_id', how='right')"
   ]
  },
  {
   "cell_type": "markdown",
   "metadata": {},
   "source": [
    "For the rows with empty 'carrier date' we will use maximum carrier date"
   ]
  },
  {
   "cell_type": "code",
   "execution_count": 21,
   "metadata": {},
   "outputs": [],
   "source": [
    "orders_products.loc[\n",
    "    (orders_products.order_delivered_customer_date.isnull()) &     \n",
    "    (orders_products.order_delivered_carrier_date.isnull()) &\n",
    "    (orders_products.order_status == 'delivered'), \n",
    "    'order_delivered_carrier_date'] = orders_products.shipping_limit_date"
   ]
  },
  {
   "cell_type": "markdown",
   "metadata": {},
   "source": [
    "For the empty delivery date we will use mean delivery time"
   ]
  },
  {
   "cell_type": "code",
   "execution_count": 22,
   "metadata": {},
   "outputs": [],
   "source": [
    "mean_delivery_time = (orders_products['order_delivered_customer_date'] - \n",
    "                      orders_products['order_delivered_carrier_date']).mean()"
   ]
  },
  {
   "cell_type": "markdown",
   "metadata": {},
   "source": [
    "Filling the customer delivery dates"
   ]
  },
  {
   "cell_type": "code",
   "execution_count": 23,
   "metadata": {},
   "outputs": [],
   "source": [
    "orders_products.loc[\n",
    "    (orders_products.order_delivered_customer_date.isnull()) &        \n",
    "    (orders_products.order_status == 'delivered'), \n",
    "    'order_delivered_customer_date'] = orders_products.order_delivered_carrier_date + mean_delivery_time"
   ]
  },
  {
   "cell_type": "markdown",
   "metadata": {},
   "source": [
    "Now we have a **orders_products** DF,which contains data about orders and products relationships"
   ]
  },
  {
   "cell_type": "code",
   "execution_count": 24,
   "metadata": {},
   "outputs": [
    {
     "name": "stdout",
     "output_type": "stream",
     "text": [
      "<class 'pandas.core.frame.DataFrame'>\n",
      "Int64Index: 110197 entries, 0 to 112649\n",
      "Data columns (total 14 columns):\n",
      " #   Column                         Non-Null Count   Dtype         \n",
      "---  ------                         --------------   -----         \n",
      " 0   order_id                       110197 non-null  object        \n",
      " 1   customer_id                    110197 non-null  object        \n",
      " 2   order_status                   110197 non-null  object        \n",
      " 3   order_purchase_timestamp       110197 non-null  datetime64[ns]\n",
      " 4   order_approved_at              110182 non-null  datetime64[ns]\n",
      " 5   order_delivered_carrier_date   110196 non-null  datetime64[ns]\n",
      " 6   order_delivered_customer_date  110197 non-null  datetime64[ns]\n",
      " 7   order_estimated_delivery_date  110197 non-null  datetime64[ns]\n",
      " 8   order_item_id                  110197 non-null  int64         \n",
      " 9   product_id                     110197 non-null  object        \n",
      " 10  seller_id                      110197 non-null  object        \n",
      " 11  shipping_limit_date            110197 non-null  datetime64[ns]\n",
      " 12  price                          110197 non-null  float64       \n",
      " 13  freight_value                  110197 non-null  float64       \n",
      "dtypes: datetime64[ns](6), float64(2), int64(1), object(5)\n",
      "memory usage: 12.6+ MB\n"
     ]
    }
   ],
   "source": [
    "orders_products.query('order_status == \"delivered\"').info()"
   ]
  },
  {
   "cell_type": "markdown",
   "metadata": {},
   "source": [
    "Filling the last empty carrier dates"
   ]
  },
  {
   "cell_type": "code",
   "execution_count": 25,
   "metadata": {},
   "outputs": [],
   "source": [
    "orders_products.loc[(orders_products['order_status'] == \"delivered\") & \n",
    "                    (orders_products.order_delivered_carrier_date.isnull()),\n",
    "                    'order_delivered_carrier_date'] = orders_products.shipping_limit_date"
   ]
  },
  {
   "cell_type": "markdown",
   "metadata": {},
   "source": [
    "Thus all delivered orders have dates at all stages of delivery process.  \n",
    "We are still waitng the payment approval for some of orders, but tht seems ordinary.  "
   ]
  },
  {
   "cell_type": "code",
   "execution_count": 26,
   "metadata": {},
   "outputs": [
    {
     "name": "stdout",
     "output_type": "stream",
     "text": [
      "<class 'pandas.core.frame.DataFrame'>\n",
      "Int64Index: 110197 entries, 0 to 112649\n",
      "Data columns (total 14 columns):\n",
      " #   Column                         Non-Null Count   Dtype         \n",
      "---  ------                         --------------   -----         \n",
      " 0   order_id                       110197 non-null  object        \n",
      " 1   customer_id                    110197 non-null  object        \n",
      " 2   order_status                   110197 non-null  object        \n",
      " 3   order_purchase_timestamp       110197 non-null  datetime64[ns]\n",
      " 4   order_approved_at              110182 non-null  datetime64[ns]\n",
      " 5   order_delivered_carrier_date   110197 non-null  datetime64[ns]\n",
      " 6   order_delivered_customer_date  110197 non-null  datetime64[ns]\n",
      " 7   order_estimated_delivery_date  110197 non-null  datetime64[ns]\n",
      " 8   order_item_id                  110197 non-null  int64         \n",
      " 9   product_id                     110197 non-null  object        \n",
      " 10  seller_id                      110197 non-null  object        \n",
      " 11  shipping_limit_date            110197 non-null  datetime64[ns]\n",
      " 12  price                          110197 non-null  float64       \n",
      " 13  freight_value                  110197 non-null  float64       \n",
      "dtypes: datetime64[ns](6), float64(2), int64(1), object(5)\n",
      "memory usage: 12.6+ MB\n"
     ]
    }
   ],
   "source": [
    "orders_products.query('order_status == \"delivered\"').info()"
   ]
  },
  {
   "cell_type": "markdown",
   "metadata": {},
   "source": [
    "Pre-processing is finished. Let's move on to the tasks."
   ]
  },
  {
   "cell_type": "markdown",
   "metadata": {},
   "source": [
    "  "
   ]
  },
  {
   "cell_type": "markdown",
   "metadata": {},
   "source": [
    "### 1 How many users made a purchase only once?"
   ]
  },
  {
   "cell_type": "markdown",
   "metadata": {},
   "source": [
    "Group by unique users and count their orders. "
   ]
  },
  {
   "cell_type": "code",
   "execution_count": 27,
   "metadata": {},
   "outputs": [],
   "source": [
    "users_purchases = (purchases\n",
    "                   .groupby('customer_unique_id', as_index=False)\n",
    "                   .agg(purchases_amount=('customer_id', 'count'))\n",
    "                   .purchases_amount.value_counts()\n",
    "                   .rename_axis('purchases_count').reset_index(name='purchases_amount')\n",
    "                  )"
   ]
  },
  {
   "cell_type": "code",
   "execution_count": 28,
   "metadata": {},
   "outputs": [
    {
     "data": {
      "text/html": [
       "<div>\n",
       "<style scoped>\n",
       "    .dataframe tbody tr th:only-of-type {\n",
       "        vertical-align: middle;\n",
       "    }\n",
       "\n",
       "    .dataframe tbody tr th {\n",
       "        vertical-align: top;\n",
       "    }\n",
       "\n",
       "    .dataframe thead th {\n",
       "        text-align: right;\n",
       "    }\n",
       "</style>\n",
       "<table border=\"1\" class=\"dataframe\">\n",
       "  <thead>\n",
       "    <tr style=\"text-align: right;\">\n",
       "      <th></th>\n",
       "      <th>purchases_count</th>\n",
       "      <th>purchases_amount</th>\n",
       "    </tr>\n",
       "  </thead>\n",
       "  <tbody>\n",
       "    <tr>\n",
       "      <th>0</th>\n",
       "      <td>1</td>\n",
       "      <td>92087</td>\n",
       "    </tr>\n",
       "    <tr>\n",
       "      <th>1</th>\n",
       "      <td>2</td>\n",
       "      <td>2650</td>\n",
       "    </tr>\n",
       "    <tr>\n",
       "      <th>2</th>\n",
       "      <td>3</td>\n",
       "      <td>188</td>\n",
       "    </tr>\n",
       "    <tr>\n",
       "      <th>3</th>\n",
       "      <td>4</td>\n",
       "      <td>29</td>\n",
       "    </tr>\n",
       "    <tr>\n",
       "      <th>4</th>\n",
       "      <td>5</td>\n",
       "      <td>9</td>\n",
       "    </tr>\n",
       "  </tbody>\n",
       "</table>\n",
       "</div>"
      ],
      "text/plain": [
       "   purchases_count  purchases_amount\n",
       "0                1             92087\n",
       "1                2              2650\n",
       "2                3               188\n",
       "3                4                29\n",
       "4                5                 9"
      ]
     },
     "execution_count": 28,
     "metadata": {},
     "output_type": "execute_result"
    }
   ],
   "source": [
    "users_purchases.head()"
   ]
  },
  {
   "cell_type": "markdown",
   "metadata": {},
   "source": [
    "Let's visualize the data"
   ]
  },
  {
   "cell_type": "code",
   "execution_count": 29,
   "metadata": {},
   "outputs": [
    {
     "data": {
      "image/png": "[encoded data removed]",
      "text/plain": [
       "<Figure size 432x288 with 1 Axes>"
      ]
     },
     "metadata": {},
     "output_type": "display_data"
    }
   ],
   "source": [
    "sns.barplot(data=users_purchases, x='purchases_count', y='purchases_amount')\n",
    "            \n",
    "plt.xlabel('Amount of purchases')\n",
    "plt.ylabel('Amount of clients')\n",
    "plt.title('Distribution of clients by purchases amount')\n",
    "\n",
    "sns.despine()\n",
    "plt.show()"
   ]
  },
  {
   "cell_type": "markdown",
   "metadata": {},
   "source": [
    "The vast majority of clients made only one purchase.  \n",
    "Observable amount of clients made two purchases.  \n",
    "Anyway the viz above could not be interpreted normaly because the distribution is highly skewed.  \n",
    "Let's apply logartihm"
   ]
  },
  {
   "cell_type": "code",
   "execution_count": 30,
   "metadata": {},
   "outputs": [
    {
     "data": {
      "image/png": "[encoded data removed]",
      "text/plain": [
       "<Figure size 432x288 with 1 Axes>"
      ]
     },
     "metadata": {},
     "output_type": "display_data"
    }
   ],
   "source": [
    "users_purchases['purchases_amount_ln'] = np.log(users_purchases['purchases_amount'])\n",
    "\n",
    "sns.barplot(data=users_purchases, x='purchases_count', y='purchases_amount_ln')            \n",
    "\n",
    "plt.xlabel('Amount of purchases')\n",
    "plt.ylabel('ln(clients amount)')\n",
    "plt.title('Distribution of clients by purchases amount')\n",
    "\n",
    "sns.despine()\n",
    "plt.show()"
   ]
  },
  {
   "cell_type": "markdown",
   "metadata": {},
   "source": [
    "From a logical point of view, the distribution looks reasonable.  \n",
    "Less clients makes more orders."
   ]
  },
  {
   "cell_type": "markdown",
   "metadata": {},
   "source": [
    "In response to this unit's question"
   ]
  },
  {
   "cell_type": "code",
   "execution_count": 31,
   "metadata": {},
   "outputs": [
    {
     "name": "stdout",
     "output_type": "stream",
     "text": [
      "92087 users made only one purchase.\n"
     ]
    }
   ],
   "source": [
    "one_purchase_users = users_purchases.loc[users_purchases.purchases_count == 1, 'purchases_amount'].values[0]\n",
    "print(f'{one_purchase_users} users made only one purchase.')"
   ]
  },
  {
   "cell_type": "markdown",
   "metadata": {},
   "source": [
    "  "
   ]
  },
  {
   "cell_type": "markdown",
   "metadata": {},
   "source": [
    "### 2  What is a mean amount of products that are not delivered monthly?"
   ]
  },
  {
   "cell_type": "markdown",
   "metadata": {},
   "source": [
    "We will use the pre-proccessed data, excluding orders with status **'delivered'**.   \n",
    "\n",
    "As discussed before, we count all orders with status 'delivered' as truly delivered."
   ]
  },
  {
   "cell_type": "code",
   "execution_count": 32,
   "metadata": {},
   "outputs": [],
   "source": [
    "undelivered_products = orders_products.query('order_status != \"delivered\"')"
   ]
  },
  {
   "cell_type": "code",
   "execution_count": 33,
   "metadata": {},
   "outputs": [
    {
     "name": "stdout",
     "output_type": "stream",
     "text": [
      "<class 'pandas.core.frame.DataFrame'>\n",
      "Int64Index: 2453 entries, 79 to 112421\n",
      "Data columns (total 14 columns):\n",
      " #   Column                         Non-Null Count  Dtype         \n",
      "---  ------                         --------------  -----         \n",
      " 0   order_id                       2453 non-null   object        \n",
      " 1   customer_id                    2453 non-null   object        \n",
      " 2   order_status                   2453 non-null   object        \n",
      " 3   order_purchase_timestamp       2453 non-null   datetime64[ns]\n",
      " 4   order_approved_at              2453 non-null   datetime64[ns]\n",
      " 5   order_delivered_carrier_date   1261 non-null   datetime64[ns]\n",
      " 6   order_delivered_customer_date  7 non-null      datetime64[ns]\n",
      " 7   order_estimated_delivery_date  2453 non-null   datetime64[ns]\n",
      " 8   order_item_id                  2453 non-null   int64         \n",
      " 9   product_id                     2453 non-null   object        \n",
      " 10  seller_id                      2453 non-null   object        \n",
      " 11  shipping_limit_date            2453 non-null   datetime64[ns]\n",
      " 12  price                          2453 non-null   float64       \n",
      " 13  freight_value                  2453 non-null   float64       \n",
      "dtypes: datetime64[ns](6), float64(2), int64(1), object(5)\n",
      "memory usage: 287.5+ KB\n"
     ]
    }
   ],
   "source": [
    "undelivered_products.info()"
   ]
  },
  {
   "cell_type": "markdown",
   "metadata": {},
   "source": [
    "We can find 7 orders, which have delivery date, despite we have excluded delivered.  \n",
    "Let's check their status."
   ]
  },
  {
   "cell_type": "code",
   "execution_count": 34,
   "metadata": {},
   "outputs": [
    {
     "data": {
      "text/plain": [
       "array(['canceled'], dtype=object)"
      ]
     },
     "execution_count": 34,
     "metadata": {},
     "output_type": "execute_result"
    }
   ],
   "source": [
    "undelivered_products[~undelivered_products.order_delivered_customer_date.isnull()].order_status.unique()"
   ]
  },
  {
   "cell_type": "markdown",
   "metadata": {},
   "source": [
    "Ok, we have orders which was canceled after being delivered to the client.  \n",
    "We will exclude theese rows from 'undelivered' group, because they were delivered anyway."
   ]
  },
  {
   "cell_type": "code",
   "execution_count": 35,
   "metadata": {},
   "outputs": [],
   "source": [
    "undelivered_products = undelivered_products[undelivered_products.order_delivered_customer_date.isnull()]"
   ]
  },
  {
   "cell_type": "markdown",
   "metadata": {},
   "source": [
    "Now let's check statuses of the products that was not passed to the carrier"
   ]
  },
  {
   "cell_type": "code",
   "execution_count": 36,
   "metadata": {},
   "outputs": [
    {
     "data": {
      "text/plain": [
       "array(['canceled', 'invoiced', 'processing', 'approved', 'unavailable'],\n",
       "      dtype=object)"
      ]
     },
     "execution_count": 36,
     "metadata": {},
     "output_type": "execute_result"
    }
   ],
   "source": [
    "undelivered_products[undelivered_products.order_delivered_carrier_date.isnull()].order_status.unique()"
   ]
  },
  {
   "cell_type": "markdown",
   "metadata": {},
   "source": [
    "I general, theese orders statuses are corresponding to the sales pipeline. No corrections required."
   ]
  },
  {
   "cell_type": "markdown",
   "metadata": {},
   "source": [
    "Let's analyze the resons of 'undelivery'.  \n",
    "We are interested in monthly statistics, so we should conver the date to YYYY-MM format."
   ]
  },
  {
   "cell_type": "code",
   "execution_count": 37,
   "metadata": {},
   "outputs": [],
   "source": [
    "undelivered_products.loc[:,'order_estimated_delivery_date'] \\\n",
    "= pd.DatetimeIndex(undelivered_products['order_estimated_delivery_date']).to_period('M')\n",
    "\n",
    "undelivered_products_status = (undelivered_products\n",
    "                               .groupby(['order_estimated_delivery_date', 'order_status'], as_index=False)\n",
    "                               .agg(undelivered_amount=('order_id', 'count'))\n",
    "                              )"
   ]
  },
  {
   "cell_type": "code",
   "execution_count": 38,
   "metadata": {},
   "outputs": [
    {
     "data": {
      "text/html": [
       "<div>\n",
       "<style scoped>\n",
       "    .dataframe tbody tr th:only-of-type {\n",
       "        vertical-align: middle;\n",
       "    }\n",
       "\n",
       "    .dataframe tbody tr th {\n",
       "        vertical-align: top;\n",
       "    }\n",
       "\n",
       "    .dataframe thead th {\n",
       "        text-align: right;\n",
       "    }\n",
       "</style>\n",
       "<table border=\"1\" class=\"dataframe\">\n",
       "  <thead>\n",
       "    <tr style=\"text-align: right;\">\n",
       "      <th></th>\n",
       "      <th>order_estimated_delivery_date</th>\n",
       "      <th>order_status</th>\n",
       "      <th>undelivered_amount</th>\n",
       "    </tr>\n",
       "  </thead>\n",
       "  <tbody>\n",
       "    <tr>\n",
       "      <th>0</th>\n",
       "      <td>2016-10</td>\n",
       "      <td>canceled</td>\n",
       "      <td>2</td>\n",
       "    </tr>\n",
       "    <tr>\n",
       "      <th>1</th>\n",
       "      <td>2016-10</td>\n",
       "      <td>shipped</td>\n",
       "      <td>2</td>\n",
       "    </tr>\n",
       "    <tr>\n",
       "      <th>2</th>\n",
       "      <td>2016-11</td>\n",
       "      <td>canceled</td>\n",
       "      <td>1</td>\n",
       "    </tr>\n",
       "    <tr>\n",
       "      <th>3</th>\n",
       "      <td>2016-11</td>\n",
       "      <td>invoiced</td>\n",
       "      <td>10</td>\n",
       "    </tr>\n",
       "    <tr>\n",
       "      <th>4</th>\n",
       "      <td>2016-11</td>\n",
       "      <td>shipped</td>\n",
       "      <td>1</td>\n",
       "    </tr>\n",
       "  </tbody>\n",
       "</table>\n",
       "</div>"
      ],
      "text/plain": [
       "  order_estimated_delivery_date order_status  undelivered_amount\n",
       "0                       2016-10     canceled                   2\n",
       "1                       2016-10      shipped                   2\n",
       "2                       2016-11     canceled                   1\n",
       "3                       2016-11     invoiced                  10\n",
       "4                       2016-11      shipped                   1"
      ]
     },
     "execution_count": 38,
     "metadata": {},
     "output_type": "execute_result"
    }
   ],
   "source": [
    "undelivered_products_status.head()"
   ]
  },
  {
   "cell_type": "markdown",
   "metadata": {},
   "source": [
    "Counting mean amount of 'undelivered' products by month."
   ]
  },
  {
   "cell_type": "code",
   "execution_count": 39,
   "metadata": {},
   "outputs": [
    {
     "data": {
      "text/html": [
       "<div>\n",
       "<style scoped>\n",
       "    .dataframe tbody tr th:only-of-type {\n",
       "        vertical-align: middle;\n",
       "    }\n",
       "\n",
       "    .dataframe tbody tr th {\n",
       "        vertical-align: top;\n",
       "    }\n",
       "\n",
       "    .dataframe thead th {\n",
       "        text-align: right;\n",
       "    }\n",
       "</style>\n",
       "<table border=\"1\" class=\"dataframe\">\n",
       "  <thead>\n",
       "    <tr style=\"text-align: right;\">\n",
       "      <th></th>\n",
       "      <th>order_status</th>\n",
       "      <th>mean_undelivered_orders</th>\n",
       "    </tr>\n",
       "  </thead>\n",
       "  <tbody>\n",
       "    <tr>\n",
       "      <th>4</th>\n",
       "      <td>shipped</td>\n",
       "      <td>51.522</td>\n",
       "    </tr>\n",
       "    <tr>\n",
       "      <th>1</th>\n",
       "      <td>canceled</td>\n",
       "      <td>24.318</td>\n",
       "    </tr>\n",
       "    <tr>\n",
       "      <th>3</th>\n",
       "      <td>processing</td>\n",
       "      <td>18.789</td>\n",
       "    </tr>\n",
       "    <tr>\n",
       "      <th>2</th>\n",
       "      <td>invoiced</td>\n",
       "      <td>17.095</td>\n",
       "    </tr>\n",
       "    <tr>\n",
       "      <th>5</th>\n",
       "      <td>unavailable</td>\n",
       "      <td>3.500</td>\n",
       "    </tr>\n",
       "  </tbody>\n",
       "</table>\n",
       "</div>"
      ],
      "text/plain": [
       "  order_status  mean_undelivered_orders\n",
       "4      shipped                   51.522\n",
       "1     canceled                   24.318\n",
       "3   processing                   18.789\n",
       "2     invoiced                   17.095\n",
       "5  unavailable                    3.500"
      ]
     },
     "execution_count": 39,
     "metadata": {},
     "output_type": "execute_result"
    }
   ],
   "source": [
    "mean_undelivered = (undelivered_products_status\n",
    "                    .groupby('order_status', as_index=False) \n",
    "                    .agg(mean_undelivered_orders=('undelivered_amount', 'mean'))\n",
    "                    .sort_values(by='mean_undelivered_orders', ascending=False)\n",
    "                    .round(3)\n",
    "                   )\n",
    "mean_undelivered.head(5)"
   ]
  },
  {
   "cell_type": "markdown",
   "metadata": {},
   "source": [
    "Adding visualisation"
   ]
  },
  {
   "cell_type": "code",
   "execution_count": 40,
   "metadata": {},
   "outputs": [
    {
     "data": {
      "image/png": "[encoded data removed]",
      "text/plain": [
       "<Figure size 720x360 with 1 Axes>"
      ]
     },
     "metadata": {},
     "output_type": "display_data"
    }
   ],
   "source": [
    "plt.figure(figsize=(10, 5))\n",
    "\n",
    "sns.barplot(data=mean_undelivered, x='order_status', y='mean_undelivered_orders')\n",
    "\n",
    "plt.xlabel('Status')\n",
    "plt.ylabel('Mean undelivered orders')\n",
    "plt.title('Mean undelivered orders by status')\n",
    "\n",
    "sns.despine()\n",
    "plt.show()"
   ]
  },
  {
   "cell_type": "markdown",
   "metadata": {},
   "source": [
    "Monthly dinamycs of undelivery by month"
   ]
  },
  {
   "cell_type": "code",
   "execution_count": 41,
   "metadata": {},
   "outputs": [
    {
     "data": {
      "image/png": "[encoded data removed]",
      "text/plain": [
       "<Figure size 1440x720 with 1 Axes>"
      ]
     },
     "metadata": {},
     "output_type": "display_data"
    }
   ],
   "source": [
    "plt.figure(figsize=(20, 10))\n",
    "\n",
    "sns.barplot(data=undelivered_products_status, \n",
    "            x='order_estimated_delivery_date',\n",
    "            y='undelivered_amount',\n",
    "            hue='order_status'\n",
    "           )\n",
    "\n",
    "plt.xlabel('Date')\n",
    "plt.ylabel('Amount of undelivered orders')\n",
    "plt.title('Distribution of undelivered orders by date and status')\n",
    "plt.legend(title='Status', loc='upper left')\n",
    "\n",
    "sns.despine()\n",
    "plt.show()"
   ]
  },
  {
   "cell_type": "markdown",
   "metadata": {},
   "source": [
    "Most of the undelivered orders are either on their way to the client or was canceled. Very small amount are on pre-sale stages.  \n",
    "Thus, we can make a conclusion that our orders processing system works good. Much faster than logistics.  \n",
    "We can also see that very few products are unavailable to order. This is a sign that our stock works great as well."
   ]
  },
  {
   "cell_type": "markdown",
   "metadata": {},
   "source": [
    "Response to this unit's question"
   ]
  },
  {
   "cell_type": "code",
   "execution_count": 42,
   "metadata": {},
   "outputs": [
    {
     "name": "stdout",
     "output_type": "stream",
     "text": [
      "19 products are being undelivered monthly.\n"
     ]
    }
   ],
   "source": [
    "undelivered_amount_mean = mean_undelivered.mean_undelivered_orders.mean()\n",
    "\n",
    "print(f'{int(undelivered_amount_mean)} products are being undelivered monthly.')"
   ]
  },
  {
   "cell_type": "markdown",
   "metadata": {},
   "source": [
    "  \n",
    "  "
   ]
  },
  {
   "cell_type": "markdown",
   "metadata": {},
   "source": [
    "### 3  The most popular day of week to buy each product"
   ]
  },
  {
   "cell_type": "markdown",
   "metadata": {},
   "source": [
    "We will use pre-processed products data. It should be joined with purchases data.  \n",
    "**'order_purchase_timestamp'** will be counted as date of purchase"
   ]
  },
  {
   "cell_type": "code",
   "execution_count": 43,
   "metadata": {},
   "outputs": [],
   "source": [
    "products_purchases = purchases.merge(products, on='order_id')"
   ]
  },
  {
   "cell_type": "markdown",
   "metadata": {},
   "source": [
    "Adding day of week for purchases data. Also adding weekday number 1-7, to simplify sorting."
   ]
  },
  {
   "cell_type": "code",
   "execution_count": 44,
   "metadata": {},
   "outputs": [],
   "source": [
    "products_purchases.loc[:,'purchase_weekday']      = products_purchases.order_purchase_timestamp.dt.dayofweek + 1\n",
    "products_purchases.loc[:,'purchase_weekday_name'] = products_purchases.order_purchase_timestamp.dt.day_name()"
   ]
  },
  {
   "cell_type": "markdown",
   "metadata": {},
   "source": [
    "Grouping by product ID an day of week.  \n",
    "Counting amount of products for each day of week.  \n",
    "For each product keeping only the most popular weekday name."
   ]
  },
  {
   "cell_type": "code",
   "execution_count": 45,
   "metadata": {},
   "outputs": [
    {
     "data": {
      "text/html": [
       "<div>\n",
       "<style scoped>\n",
       "    .dataframe tbody tr th:only-of-type {\n",
       "        vertical-align: middle;\n",
       "    }\n",
       "\n",
       "    .dataframe tbody tr th {\n",
       "        vertical-align: top;\n",
       "    }\n",
       "\n",
       "    .dataframe thead th {\n",
       "        text-align: right;\n",
       "    }\n",
       "</style>\n",
       "<table border=\"1\" class=\"dataframe\">\n",
       "  <thead>\n",
       "    <tr style=\"text-align: right;\">\n",
       "      <th></th>\n",
       "      <th>product_id</th>\n",
       "      <th>purchase_weekday</th>\n",
       "      <th>purchase_weekday_name</th>\n",
       "      <th>ordered_amount</th>\n",
       "    </tr>\n",
       "  </thead>\n",
       "  <tbody>\n",
       "    <tr>\n",
       "      <th>15808</th>\n",
       "      <td>422879e10f46682990de24d770e7f83d</td>\n",
       "      <td>3</td>\n",
       "      <td>Wednesday</td>\n",
       "      <td>93</td>\n",
       "    </tr>\n",
       "    <tr>\n",
       "      <th>36304</th>\n",
       "      <td>99a4788cb24856965c36a24e339b6058</td>\n",
       "      <td>1</td>\n",
       "      <td>Monday</td>\n",
       "      <td>92</td>\n",
       "    </tr>\n",
       "    <tr>\n",
       "      <th>40818</th>\n",
       "      <td>aca2eb7d00ea1a7b8ebd4e68314663af</td>\n",
       "      <td>4</td>\n",
       "      <td>Thursday</td>\n",
       "      <td>89</td>\n",
       "    </tr>\n",
       "    <tr>\n",
       "      <th>20005</th>\n",
       "      <td>53b36df67ebb7c41585e8d54d6772e08</td>\n",
       "      <td>2</td>\n",
       "      <td>Tuesday</td>\n",
       "      <td>76</td>\n",
       "    </tr>\n",
       "    <tr>\n",
       "      <th>12933</th>\n",
       "      <td>368c6c730842d78016ad823897a372db</td>\n",
       "      <td>5</td>\n",
       "      <td>Friday</td>\n",
       "      <td>67</td>\n",
       "    </tr>\n",
       "  </tbody>\n",
       "</table>\n",
       "</div>"
      ],
      "text/plain": [
       "                             product_id  purchase_weekday  \\\n",
       "15808  422879e10f46682990de24d770e7f83d                 3   \n",
       "36304  99a4788cb24856965c36a24e339b6058                 1   \n",
       "40818  aca2eb7d00ea1a7b8ebd4e68314663af                 4   \n",
       "20005  53b36df67ebb7c41585e8d54d6772e08                 2   \n",
       "12933  368c6c730842d78016ad823897a372db                 5   \n",
       "\n",
       "      purchase_weekday_name  ordered_amount  \n",
       "15808             Wednesday              93  \n",
       "36304                Monday              92  \n",
       "40818              Thursday              89  \n",
       "20005               Tuesday              76  \n",
       "12933                Friday              67  "
      ]
     },
     "execution_count": 45,
     "metadata": {},
     "output_type": "execute_result"
    }
   ],
   "source": [
    "weekday_product_purchases = (products_purchases\n",
    "                             .groupby(['product_id', 'purchase_weekday', 'purchase_weekday_name'], as_index=False)\n",
    "                             .agg(ordered_amount=('order_id', 'count'))\n",
    "                             .sort_values(by='ordered_amount', ascending=False)\n",
    "                             .drop_duplicates(subset='product_id', keep='first')\n",
    "                            )\n",
    "weekday_product_purchases.head(5)"
   ]
  },
  {
   "cell_type": "code",
   "execution_count": 46,
   "metadata": {},
   "outputs": [
    {
     "name": "stdout",
     "output_type": "stream",
     "text": [
      "We have 32726 unique products.\n"
     ]
    }
   ],
   "source": [
    "print(f'We have {weekday_product_purchases.product_id.nunique()} unique products.')"
   ]
  },
  {
   "cell_type": "markdown",
   "metadata": {},
   "source": [
    "There are a lot of such products. Let's take a look at mean and total amount of orders by weekday."
   ]
  },
  {
   "cell_type": "code",
   "execution_count": 47,
   "metadata": {},
   "outputs": [],
   "source": [
    "weekday_purchases = (products_purchases\n",
    "                     .groupby(['product_id', 'purchase_weekday_name', 'purchase_weekday'], as_index=False)\n",
    "                     .agg(ordered_amount=('order_item_id', 'count'))                                          \n",
    "                     .groupby(['purchase_weekday_name', 'purchase_weekday'], as_index=False)\n",
    "                     .agg(ordered_mean=('ordered_amount', 'mean'), ordered_total=('ordered_amount', 'sum'))\n",
    "                     .sort_values(by='purchase_weekday')\n",
    "                    )"
   ]
  },
  {
   "cell_type": "markdown",
   "metadata": {},
   "source": [
    "Visualizing"
   ]
  },
  {
   "cell_type": "code",
   "execution_count": 48,
   "metadata": {},
   "outputs": [
    {
     "data": {
      "image/png": "[encoded data removed]",
      "text/plain": [
       "<Figure size 720x720 with 2 Axes>"
      ]
     },
     "metadata": {},
     "output_type": "display_data"
    }
   ],
   "source": [
    "f, (ax1, ax2) = plt.subplots(2, 1, sharex=True, figsize=(10,10))\n",
    "\n",
    "sns.barplot(data=weekday_purchases, x='purchase_weekday_name', y='ordered_mean', ax=ax1)          \n",
    "sns.barplot(data=weekday_purchases, x='purchase_weekday_name', y='ordered_total', ax=ax2)\n",
    "\n",
    "ax1.set_xlabel('')\n",
    "ax1.set_ylabel('Mean amount of products')\n",
    "\n",
    "ax2.set_xlabel('Day of week')\n",
    "ax2.set_ylabel('Total amount of products')\n",
    "\n",
    "plt.suptitle('Mean and Total amount of products by day of week')\n",
    "\n",
    "sns.despine()\n",
    "plt.show()"
   ]
  },
  {
   "cell_type": "markdown",
   "metadata": {},
   "source": [
    "Mean amount of products by day of week is 2.  \n",
    "Most purchases were done at the start of the week, least at weekends."
   ]
  },
  {
   "cell_type": "markdown",
   "metadata": {},
   "source": [
    "  \n",
    "  "
   ]
  },
  {
   "cell_type": "markdown",
   "metadata": {},
   "source": [
    "### 4  Mean amount of purchases for each user by week(monthly)"
   ]
  },
  {
   "cell_type": "markdown",
   "metadata": {},
   "source": [
    "We will use pre-processed products data.  \n",
    "**'order_purchase_timestamp'** will be counted as date of purchase"
   ]
  },
  {
   "cell_type": "markdown",
   "metadata": {},
   "source": [
    "Adding week and month columns for each purchase."
   ]
  },
  {
   "cell_type": "code",
   "execution_count": 49,
   "metadata": {},
   "outputs": [],
   "source": [
    "purchases['week']  = purchases.order_purchase_timestamp.dt.isocalendar().week\n",
    "purchases['month'] = pd.DatetimeIndex(purchases['order_purchase_timestamp']).to_period('M')"
   ]
  },
  {
   "cell_type": "markdown",
   "metadata": {},
   "source": [
    "Keeping only necessary columns to count mean amount of purchases."
   ]
  },
  {
   "cell_type": "code",
   "execution_count": 50,
   "metadata": {},
   "outputs": [],
   "source": [
    "purchases_by_week = purchases[['customer_unique_id', 'order_id', 'order_purchase_timestamp', 'week', 'month']]"
   ]
  },
  {
   "cell_type": "markdown",
   "metadata": {},
   "source": [
    "Brief preview"
   ]
  },
  {
   "cell_type": "code",
   "execution_count": 51,
   "metadata": {},
   "outputs": [
    {
     "name": "stdout",
     "output_type": "stream",
     "text": [
      "94973 clients made 98188 purchases.\n"
     ]
    }
   ],
   "source": [
    "unique_customers = purchases_by_week.customer_unique_id.nunique()\n",
    "orders_amount    = purchases_by_week.shape[0]\n",
    "\n",
    "print(f'{unique_customers} clients made {orders_amount} purchases.')"
   ]
  },
  {
   "cell_type": "markdown",
   "metadata": {},
   "source": [
    "Grouping up the data by users and purchase monthes.  \n",
    "Counting the amount of purchases. "
   ]
  },
  {
   "cell_type": "code",
   "execution_count": 52,
   "metadata": {},
   "outputs": [],
   "source": [
    "mean_purchases_by_week = (purchases_by_week\n",
    "                          .groupby(['customer_unique_id', 'month'], as_index=False)\n",
    "                          .agg(orders_amount=('order_id', 'count'))                          \n",
    "                         )"
   ]
  },
  {
   "cell_type": "markdown",
   "metadata": {},
   "source": [
    "For each client counting for the number of the weeks in that month."
   ]
  },
  {
   "cell_type": "code",
   "execution_count": 53,
   "metadata": {},
   "outputs": [],
   "source": [
    "# Amount of weeks for the particular month\n",
    "weeks = (mean_purchases_by_week.month.dt.daysinmonth / 7) \n",
    "mean_purchases_by_week['mean_orders_weekly'] = (mean_purchases_by_week.orders_amount / weeks).round(3)"
   ]
  },
  {
   "cell_type": "markdown",
   "metadata": {},
   "source": [
    "Checking that we didn't lost any clients"
   ]
  },
  {
   "cell_type": "code",
   "execution_count": 54,
   "metadata": {},
   "outputs": [
    {
     "name": "stdout",
     "output_type": "stream",
     "text": [
      "Ok\n"
     ]
    }
   ],
   "source": [
    "if mean_purchases_by_week.customer_unique_id.nunique() == unique_customers:\n",
    "    print('Ok')\n",
    "else:\n",
    "    print('Not ok, we have lost some clients!')  "
   ]
  },
  {
   "cell_type": "markdown",
   "metadata": {},
   "source": [
    "Now we can count the mean amount of purchases by week(monthly)"
   ]
  },
  {
   "cell_type": "code",
   "execution_count": 55,
   "metadata": {},
   "outputs": [
    {
     "data": {
      "text/html": [
       "<div>\n",
       "<style scoped>\n",
       "    .dataframe tbody tr th:only-of-type {\n",
       "        vertical-align: middle;\n",
       "    }\n",
       "\n",
       "    .dataframe tbody tr th {\n",
       "        vertical-align: top;\n",
       "    }\n",
       "\n",
       "    .dataframe thead th {\n",
       "        text-align: right;\n",
       "    }\n",
       "</style>\n",
       "<table border=\"1\" class=\"dataframe\">\n",
       "  <thead>\n",
       "    <tr style=\"text-align: right;\">\n",
       "      <th></th>\n",
       "      <th>customer_unique_id</th>\n",
       "      <th>mean_orders_weekly</th>\n",
       "    </tr>\n",
       "  </thead>\n",
       "  <tbody>\n",
       "    <tr>\n",
       "      <th>0</th>\n",
       "      <td>0000366f3b9a7992bf8c76cfdf3221e2</td>\n",
       "      <td>0.226</td>\n",
       "    </tr>\n",
       "    <tr>\n",
       "      <th>1</th>\n",
       "      <td>0000b849f77a49e4a4ce2b2a4ca5be3f</td>\n",
       "      <td>0.226</td>\n",
       "    </tr>\n",
       "    <tr>\n",
       "      <th>2</th>\n",
       "      <td>0000f46a3911fa3c0805444483337064</td>\n",
       "      <td>0.226</td>\n",
       "    </tr>\n",
       "    <tr>\n",
       "      <th>3</th>\n",
       "      <td>0000f6ccb0745a6a4b88665a16c9f078</td>\n",
       "      <td>0.226</td>\n",
       "    </tr>\n",
       "    <tr>\n",
       "      <th>4</th>\n",
       "      <td>0004aac84e0df4da2b147fca70cf8255</td>\n",
       "      <td>0.233</td>\n",
       "    </tr>\n",
       "  </tbody>\n",
       "</table>\n",
       "</div>"
      ],
      "text/plain": [
       "                 customer_unique_id  mean_orders_weekly\n",
       "0  0000366f3b9a7992bf8c76cfdf3221e2               0.226\n",
       "1  0000b849f77a49e4a4ce2b2a4ca5be3f               0.226\n",
       "2  0000f46a3911fa3c0805444483337064               0.226\n",
       "3  0000f6ccb0745a6a4b88665a16c9f078               0.226\n",
       "4  0004aac84e0df4da2b147fca70cf8255               0.233"
      ]
     },
     "execution_count": 55,
     "metadata": {},
     "output_type": "execute_result"
    }
   ],
   "source": [
    "mean_purchases_by_week[['customer_unique_id', 'mean_orders_weekly']].head()"
   ]
  },
  {
   "cell_type": "markdown",
   "metadata": {},
   "source": [
    "The viz of the data could not be interpreted normaly because the distribution is highly skewed.  \n",
    "Let's apply logartihm"
   ]
  },
  {
   "cell_type": "code",
   "execution_count": 56,
   "metadata": {},
   "outputs": [
    {
     "data": {
      "image/png": "[encoded data removed]",
      "text/plain": [
       "<Figure size 720x504 with 2 Axes>"
      ]
     },
     "metadata": {},
     "output_type": "display_data"
    }
   ],
   "source": [
    "f, (ax1, ax2) = plt.subplots(2, 1, sharex=True, figsize=(10,7))\n",
    "\n",
    "mean_purchases_by_week.mean_orders_weekly.value_counts().plot.bar(rot=0, ax=ax1)\n",
    "np.log(mean_purchases_by_week.mean_orders_weekly.value_counts()).plot.bar(rot=0, ax=ax2)\n",
    "\n",
    "plt.xlabel('Mean orders weekly')\n",
    "ax1.set_ylabel('Customers amount')\n",
    "ax2.set_ylabel('ln(Customers amount)')\n",
    "\n",
    "plt.suptitle('Distribution of customers by weekly mean orders')\n",
    "\n",
    "sns.despine()\n",
    "plt.show()"
   ]
  },
  {
   "cell_type": "markdown",
   "metadata": {},
   "source": [
    "Most users mean amount of purchases by week (monthly) is 1.  \n",
    "This is consistent with previous data, as we know that most customers made only one purchase.  \n",
    "*There are 4..4.3 weeks in month => (1 purchase) / (4..4.3 weeks) ~= 0.23-0.25*\n",
    "\n",
    "Nevertheless, there is also a significant part of clients whose mean amount of purchases by week (monthly) is 2.  \n",
    "*Average orders == 0.45*. \n",
    "\n",
    "And even those who made more than 2 purchases, but there are very few of them within the data."
   ]
  },
  {
   "cell_type": "markdown",
   "metadata": {},
   "source": [
    "  \n",
    "  "
   ]
  },
  {
   "cell_type": "markdown",
   "metadata": {},
   "source": [
    "### 5  Cohort analysis.  \n",
    "### Searching for the cohort with the biggest retention on 3rd month in a period January-December"
   ]
  },
  {
   "cell_type": "markdown",
   "metadata": {},
   "source": [
    "For the date of the first purchase (**Month 0**) we will use **'order_purchase_timestamp'**."
   ]
  },
  {
   "cell_type": "code",
   "execution_count": 57,
   "metadata": {},
   "outputs": [],
   "source": [
    "cohorts = purchases[['month', 'customer_unique_id', 'order_id', ]]"
   ]
  },
  {
   "cell_type": "code",
   "execution_count": 58,
   "metadata": {},
   "outputs": [
    {
     "name": "stdout",
     "output_type": "stream",
     "text": [
      "We have 94973 unique clients.\n"
     ]
    }
   ],
   "source": [
    "print(f'We have {cohorts.customer_unique_id.nunique()} unique clients.')"
   ]
  },
  {
   "cell_type": "markdown",
   "metadata": {},
   "source": [
    "Let's take a look at the dateperiod provided in the data."
   ]
  },
  {
   "cell_type": "code",
   "execution_count": 59,
   "metadata": {},
   "outputs": [
    {
     "data": {
      "text/plain": [
       "[Period('2016-09', 'M'),\n",
       " Period('2016-10', 'M'),\n",
       " Period('2016-12', 'M'),\n",
       " Period('2017-01', 'M'),\n",
       " Period('2017-02', 'M'),\n",
       " Period('2017-03', 'M'),\n",
       " Period('2017-04', 'M'),\n",
       " Period('2017-05', 'M'),\n",
       " Period('2017-06', 'M'),\n",
       " Period('2017-07', 'M'),\n",
       " Period('2017-08', 'M'),\n",
       " Period('2017-09', 'M'),\n",
       " Period('2017-10', 'M'),\n",
       " Period('2017-11', 'M'),\n",
       " Period('2017-12', 'M'),\n",
       " Period('2018-01', 'M'),\n",
       " Period('2018-02', 'M'),\n",
       " Period('2018-03', 'M'),\n",
       " Period('2018-04', 'M'),\n",
       " Period('2018-05', 'M'),\n",
       " Period('2018-06', 'M'),\n",
       " Period('2018-07', 'M'),\n",
       " Period('2018-08', 'M'),\n",
       " Period('2018-09', 'M')]"
      ]
     },
     "execution_count": 59,
     "metadata": {},
     "output_type": "execute_result"
    }
   ],
   "source": [
    "sorted(cohorts.month.unique())"
   ]
  },
  {
   "cell_type": "markdown",
   "metadata": {},
   "source": [
    "The only year, that contain data from Jan to Dec is 2017"
   ]
  },
  {
   "cell_type": "code",
   "execution_count": 60,
   "metadata": {},
   "outputs": [],
   "source": [
    "cohorts = cohorts.query('(month >= \"2017-01\") & (month <= \"2017-12\")')"
   ]
  },
  {
   "cell_type": "markdown",
   "metadata": {},
   "source": [
    "Counting Month 0 for each client"
   ]
  },
  {
   "cell_type": "code",
   "execution_count": 61,
   "metadata": {},
   "outputs": [],
   "source": [
    "month_0_customers = cohorts.groupby('customer_unique_id', as_index=False).agg(month_0 = ('month', 'min'))"
   ]
  },
  {
   "cell_type": "code",
   "execution_count": 62,
   "metadata": {},
   "outputs": [
    {
     "data": {
      "text/html": [
       "<div>\n",
       "<style scoped>\n",
       "    .dataframe tbody tr th:only-of-type {\n",
       "        vertical-align: middle;\n",
       "    }\n",
       "\n",
       "    .dataframe tbody tr th {\n",
       "        vertical-align: top;\n",
       "    }\n",
       "\n",
       "    .dataframe thead th {\n",
       "        text-align: right;\n",
       "    }\n",
       "</style>\n",
       "<table border=\"1\" class=\"dataframe\">\n",
       "  <thead>\n",
       "    <tr style=\"text-align: right;\">\n",
       "      <th></th>\n",
       "      <th>customer_unique_id</th>\n",
       "      <th>month_0</th>\n",
       "    </tr>\n",
       "  </thead>\n",
       "  <tbody>\n",
       "    <tr>\n",
       "      <th>0</th>\n",
       "      <td>0000f46a3911fa3c0805444483337064</td>\n",
       "      <td>2017-03</td>\n",
       "    </tr>\n",
       "    <tr>\n",
       "      <th>1</th>\n",
       "      <td>0000f6ccb0745a6a4b88665a16c9f078</td>\n",
       "      <td>2017-10</td>\n",
       "    </tr>\n",
       "    <tr>\n",
       "      <th>2</th>\n",
       "      <td>0004aac84e0df4da2b147fca70cf8255</td>\n",
       "      <td>2017-11</td>\n",
       "    </tr>\n",
       "    <tr>\n",
       "      <th>3</th>\n",
       "      <td>0005e1862207bf6ccc02e4228effd9a0</td>\n",
       "      <td>2017-03</td>\n",
       "    </tr>\n",
       "    <tr>\n",
       "      <th>4</th>\n",
       "      <td>0006fdc98a402fceb4eb0ee528f6a8d4</td>\n",
       "      <td>2017-07</td>\n",
       "    </tr>\n",
       "  </tbody>\n",
       "</table>\n",
       "</div>"
      ],
      "text/plain": [
       "                 customer_unique_id  month_0\n",
       "0  0000f46a3911fa3c0805444483337064  2017-03\n",
       "1  0000f6ccb0745a6a4b88665a16c9f078  2017-10\n",
       "2  0004aac84e0df4da2b147fca70cf8255  2017-11\n",
       "3  0005e1862207bf6ccc02e4228effd9a0  2017-03\n",
       "4  0006fdc98a402fceb4eb0ee528f6a8d4  2017-07"
      ]
     },
     "execution_count": 62,
     "metadata": {},
     "output_type": "execute_result"
    }
   ],
   "source": [
    "month_0_customers.head()"
   ]
  },
  {
   "cell_type": "markdown",
   "metadata": {},
   "source": [
    "Merging month_0 information with cohorts DF."
   ]
  },
  {
   "cell_type": "code",
   "execution_count": 63,
   "metadata": {},
   "outputs": [],
   "source": [
    "cohorts = cohorts.merge(month_0_customers, how='left')"
   ]
  },
  {
   "cell_type": "markdown",
   "metadata": {},
   "source": [
    "Counting the time difference from the first purchase to the other"
   ]
  },
  {
   "cell_type": "code",
   "execution_count": 64,
   "metadata": {},
   "outputs": [],
   "source": [
    "cohorts['cohort_period'] = cohorts.month.view(dtype='int64') - cohorts.month_0.view(dtype='int64')"
   ]
  },
  {
   "cell_type": "markdown",
   "metadata": {},
   "source": [
    "Counting unique clients for each cohort"
   ]
  },
  {
   "cell_type": "code",
   "execution_count": 65,
   "metadata": {},
   "outputs": [],
   "source": [
    "cohort_df = (cohorts\n",
    "             .groupby(['cohort_period','month_0'], as_index=False)\n",
    "             .agg(uniq_customers=('customer_unique_id', 'nunique'))\n",
    "             .reset_index()             \n",
    "             .rename(columns={'month_0': 'cohort'})\n",
    "             .pivot(index='cohort', columns='cohort_period', values='uniq_customers')\n",
    "            )"
   ]
  },
  {
   "cell_type": "markdown",
   "metadata": {},
   "source": [
    "Calculating **retention**."
   ]
  },
  {
   "cell_type": "code",
   "execution_count": 66,
   "metadata": {},
   "outputs": [],
   "source": [
    "retention = cohort_df.divide(cohort_df.iloc[:,0], axis = 0).round(5)"
   ]
  },
  {
   "cell_type": "markdown",
   "metadata": {},
   "source": [
    "Adding style to simplify interpritation.  Convert **retention** to percent. Painting NaN in white."
   ]
  },
  {
   "cell_type": "code",
   "execution_count": 67,
   "metadata": {},
   "outputs": [
    {
     "data": {
      "text/html": [
       "<style type=\"text/css\">\n",
       "#T_69199_row0_col0, #T_69199_row0_col7, #T_69199_row0_col11, #T_69199_row1_col0, #T_69199_row1_col1, #T_69199_row1_col3, #T_69199_row1_col5, #T_69199_row1_col8, #T_69199_row1_col10, #T_69199_row2_col0, #T_69199_row2_col6, #T_69199_row2_col9, #T_69199_row3_col0, #T_69199_row3_col2, #T_69199_row4_col0, #T_69199_row5_col0, #T_69199_row5_col4, #T_69199_row6_col0, #T_69199_row7_col0, #T_69199_row8_col0, #T_69199_row9_col0, #T_69199_row10_col0, #T_69199_row11_col0 {\n",
       "  background-color: #313695;\n",
       "  color: #f1f1f1;\n",
       "}\n",
       "#T_69199_row0_col1 {\n",
       "  background-color: #c3e5f0;\n",
       "  color: #000000;\n",
       "}\n",
       "#T_69199_row0_col2 {\n",
       "  background-color: #6095c4;\n",
       "  color: #f1f1f1;\n",
       "}\n",
       "#T_69199_row0_col3 {\n",
       "  background-color: #3a54a4;\n",
       "  color: #f1f1f1;\n",
       "}\n",
       "#T_69199_row0_col4 {\n",
       "  background-color: #da362a;\n",
       "  color: #f1f1f1;\n",
       "}\n",
       "#T_69199_row0_col5 {\n",
       "  background-color: #3b56a5;\n",
       "  color: #f1f1f1;\n",
       "}\n",
       "#T_69199_row0_col6 {\n",
       "  background-color: #d22b27;\n",
       "  color: #f1f1f1;\n",
       "}\n",
       "#T_69199_row0_col8 {\n",
       "  background-color: #90c3dd;\n",
       "  color: #000000;\n",
       "}\n",
       "#T_69199_row0_col9, #T_69199_row2_col10, #T_69199_row3_col9, #T_69199_row3_col10, #T_69199_row4_col8, #T_69199_row4_col9, #T_69199_row4_col10, #T_69199_row5_col7, #T_69199_row5_col8, #T_69199_row5_col9, #T_69199_row5_col10, #T_69199_row6_col6, #T_69199_row6_col7, #T_69199_row6_col8, #T_69199_row6_col9, #T_69199_row6_col10, #T_69199_row7_col5, #T_69199_row7_col6, #T_69199_row7_col7, #T_69199_row7_col8, #T_69199_row7_col9, #T_69199_row7_col10, #T_69199_row8_col4, #T_69199_row8_col5, #T_69199_row8_col6, #T_69199_row8_col7, #T_69199_row8_col8, #T_69199_row8_col9, #T_69199_row8_col10, #T_69199_row9_col3, #T_69199_row9_col4, #T_69199_row9_col5, #T_69199_row9_col6, #T_69199_row9_col7, #T_69199_row9_col8, #T_69199_row9_col9, #T_69199_row9_col10, #T_69199_row10_col2, #T_69199_row10_col3, #T_69199_row10_col4, #T_69199_row10_col5, #T_69199_row10_col6, #T_69199_row10_col7, #T_69199_row10_col8, #T_69199_row10_col9, #T_69199_row10_col10, #T_69199_row11_col1, #T_69199_row11_col2, #T_69199_row11_col3, #T_69199_row11_col4, #T_69199_row11_col5, #T_69199_row11_col6, #T_69199_row11_col7, #T_69199_row11_col8, #T_69199_row11_col9, #T_69199_row11_col10 {\n",
       "  background-color: #000000;\n",
       "  color: #f1f1f1;\n",
       "  background-color: white;\n",
       "}\n",
       "#T_69199_row0_col10, #T_69199_row1_col4, #T_69199_row1_col9, #T_69199_row2_col7, #T_69199_row2_col8, #T_69199_row4_col3, #T_69199_row4_col6, #T_69199_row5_col5, #T_69199_row8_col2, #T_69199_row9_col1 {\n",
       "  background-color: #a50026;\n",
       "  color: #f1f1f1;\n",
       "}\n",
       "#T_69199_row1_col2 {\n",
       "  background-color: #92c5de;\n",
       "  color: #000000;\n",
       "}\n",
       "#T_69199_row1_col6 {\n",
       "  background-color: #aedbea;\n",
       "  color: #000000;\n",
       "}\n",
       "#T_69199_row1_col7 {\n",
       "  background-color: #94c7df;\n",
       "  color: #000000;\n",
       "}\n",
       "#T_69199_row1_col11, #T_69199_row2_col11, #T_69199_row3_col11, #T_69199_row4_col11, #T_69199_row5_col11, #T_69199_row6_col11, #T_69199_row7_col11, #T_69199_row8_col11, #T_69199_row9_col11, #T_69199_row10_col11, #T_69199_row11_col11 {\n",
       "  background-color: #313695;\n",
       "  color: #f1f1f1;\n",
       "  background-color: white;\n",
       "}\n",
       "#T_69199_row2_col1 {\n",
       "  background-color: #fee99d;\n",
       "  color: #000000;\n",
       "}\n",
       "#T_69199_row2_col2 {\n",
       "  background-color: #e5f5ef;\n",
       "  color: #000000;\n",
       "}\n",
       "#T_69199_row2_col3 {\n",
       "  background-color: #af0926;\n",
       "  color: #f1f1f1;\n",
       "}\n",
       "#T_69199_row2_col4 {\n",
       "  background-color: #fee699;\n",
       "  color: #000000;\n",
       "}\n",
       "#T_69199_row2_col5 {\n",
       "  background-color: #578abf;\n",
       "  color: #f1f1f1;\n",
       "}\n",
       "#T_69199_row3_col1 {\n",
       "  background-color: #f67a49;\n",
       "  color: #f1f1f1;\n",
       "}\n",
       "#T_69199_row3_col3 {\n",
       "  background-color: #70a9cf;\n",
       "  color: #f1f1f1;\n",
       "}\n",
       "#T_69199_row3_col4 {\n",
       "  background-color: #9bcce2;\n",
       "  color: #000000;\n",
       "}\n",
       "#T_69199_row3_col5, #T_69199_row4_col1 {\n",
       "  background-color: #fffab7;\n",
       "  color: #000000;\n",
       "}\n",
       "#T_69199_row3_col6 {\n",
       "  background-color: #fdad60;\n",
       "  color: #000000;\n",
       "}\n",
       "#T_69199_row3_col7 {\n",
       "  background-color: #c01a27;\n",
       "  color: #f1f1f1;\n",
       "}\n",
       "#T_69199_row3_col8 {\n",
       "  background-color: #eb5a3a;\n",
       "  color: #f1f1f1;\n",
       "}\n",
       "#T_69199_row4_col2 {\n",
       "  background-color: #ef633f;\n",
       "  color: #f1f1f1;\n",
       "}\n",
       "#T_69199_row4_col4, #T_69199_row6_col5 {\n",
       "  background-color: #bde2ee;\n",
       "  color: #000000;\n",
       "}\n",
       "#T_69199_row4_col5 {\n",
       "  background-color: #ed5f3c;\n",
       "  color: #f1f1f1;\n",
       "}\n",
       "#T_69199_row4_col7 {\n",
       "  background-color: #3a51a2;\n",
       "  color: #f1f1f1;\n",
       "}\n",
       "#T_69199_row5_col1 {\n",
       "  background-color: #f1fad9;\n",
       "  color: #000000;\n",
       "}\n",
       "#T_69199_row5_col2 {\n",
       "  background-color: #eaf7e6;\n",
       "  color: #000000;\n",
       "}\n",
       "#T_69199_row5_col3 {\n",
       "  background-color: #b30d26;\n",
       "  color: #f1f1f1;\n",
       "}\n",
       "#T_69199_row5_col6 {\n",
       "  background-color: #f99153;\n",
       "  color: #000000;\n",
       "}\n",
       "#T_69199_row6_col1 {\n",
       "  background-color: #fedc8c;\n",
       "  color: #000000;\n",
       "}\n",
       "#T_69199_row6_col2 {\n",
       "  background-color: #d8eff6;\n",
       "  color: #000000;\n",
       "}\n",
       "#T_69199_row6_col3 {\n",
       "  background-color: #e6f5ed;\n",
       "  color: #000000;\n",
       "}\n",
       "#T_69199_row6_col4 {\n",
       "  background-color: #6ea6ce;\n",
       "  color: #f1f1f1;\n",
       "}\n",
       "#T_69199_row7_col1 {\n",
       "  background-color: #c21c27;\n",
       "  color: #f1f1f1;\n",
       "}\n",
       "#T_69199_row7_col2 {\n",
       "  background-color: #d6eef5;\n",
       "  color: #000000;\n",
       "}\n",
       "#T_69199_row7_col3 {\n",
       "  background-color: #fff5af;\n",
       "  color: #000000;\n",
       "}\n",
       "#T_69199_row7_col4 {\n",
       "  background-color: #fdc173;\n",
       "  color: #000000;\n",
       "}\n",
       "#T_69199_row8_col1 {\n",
       "  background-color: #b91326;\n",
       "  color: #f1f1f1;\n",
       "}\n",
       "#T_69199_row8_col3 {\n",
       "  background-color: #fece7f;\n",
       "  color: #000000;\n",
       "}\n",
       "#T_69199_row9_col2 {\n",
       "  background-color: #4878b6;\n",
       "  color: #f1f1f1;\n",
       "}\n",
       "#T_69199_row10_col1 {\n",
       "  background-color: #fdb96b;\n",
       "  color: #000000;\n",
       "}\n",
       "</style>\n",
       "<table id=\"T_69199\">\n",
       "  <caption>Customers retention by cohort</caption>\n",
       "  <thead>\n",
       "    <tr>\n",
       "      <th class=\"index_name level0\" >cohort_period</th>\n",
       "      <th id=\"T_69199_level0_col0\" class=\"col_heading level0 col0\" >0</th>\n",
       "      <th id=\"T_69199_level0_col1\" class=\"col_heading level0 col1\" >1</th>\n",
       "      <th id=\"T_69199_level0_col2\" class=\"col_heading level0 col2\" >2</th>\n",
       "      <th id=\"T_69199_level0_col3\" class=\"col_heading level0 col3\" >3</th>\n",
       "      <th id=\"T_69199_level0_col4\" class=\"col_heading level0 col4\" >4</th>\n",
       "      <th id=\"T_69199_level0_col5\" class=\"col_heading level0 col5\" >5</th>\n",
       "      <th id=\"T_69199_level0_col6\" class=\"col_heading level0 col6\" >6</th>\n",
       "      <th id=\"T_69199_level0_col7\" class=\"col_heading level0 col7\" >7</th>\n",
       "      <th id=\"T_69199_level0_col8\" class=\"col_heading level0 col8\" >8</th>\n",
       "      <th id=\"T_69199_level0_col9\" class=\"col_heading level0 col9\" >9</th>\n",
       "      <th id=\"T_69199_level0_col10\" class=\"col_heading level0 col10\" >10</th>\n",
       "      <th id=\"T_69199_level0_col11\" class=\"col_heading level0 col11\" >11</th>\n",
       "    </tr>\n",
       "    <tr>\n",
       "      <th class=\"index_name level0\" >cohort</th>\n",
       "      <th class=\"blank col0\" >&nbsp;</th>\n",
       "      <th class=\"blank col1\" >&nbsp;</th>\n",
       "      <th class=\"blank col2\" >&nbsp;</th>\n",
       "      <th class=\"blank col3\" >&nbsp;</th>\n",
       "      <th class=\"blank col4\" >&nbsp;</th>\n",
       "      <th class=\"blank col5\" >&nbsp;</th>\n",
       "      <th class=\"blank col6\" >&nbsp;</th>\n",
       "      <th class=\"blank col7\" >&nbsp;</th>\n",
       "      <th class=\"blank col8\" >&nbsp;</th>\n",
       "      <th class=\"blank col9\" >&nbsp;</th>\n",
       "      <th class=\"blank col10\" >&nbsp;</th>\n",
       "      <th class=\"blank col11\" >&nbsp;</th>\n",
       "    </tr>\n",
       "  </thead>\n",
       "  <tbody>\n",
       "    <tr>\n",
       "      <th id=\"T_69199_level0_row0\" class=\"row_heading level0 row0\" >2017-01</th>\n",
       "      <td id=\"T_69199_row0_col0\" class=\"data row0 col0\" >100.000%</td>\n",
       "      <td id=\"T_69199_row0_col1\" class=\"data row0 col1\" >0.399%</td>\n",
       "      <td id=\"T_69199_row0_col2\" class=\"data row0 col2\" >0.266%</td>\n",
       "      <td id=\"T_69199_row0_col3\" class=\"data row0 col3\" >0.133%</td>\n",
       "      <td id=\"T_69199_row0_col4\" class=\"data row0 col4\" >0.399%</td>\n",
       "      <td id=\"T_69199_row0_col5\" class=\"data row0 col5\" >0.133%</td>\n",
       "      <td id=\"T_69199_row0_col6\" class=\"data row0 col6\" >0.399%</td>\n",
       "      <td id=\"T_69199_row0_col7\" class=\"data row0 col7\" >0.133%</td>\n",
       "      <td id=\"T_69199_row0_col8\" class=\"data row0 col8\" >0.133%</td>\n",
       "      <td id=\"T_69199_row0_col9\" class=\"data row0 col9\" ></td>\n",
       "      <td id=\"T_69199_row0_col10\" class=\"data row0 col10\" >0.399%</td>\n",
       "      <td id=\"T_69199_row0_col11\" class=\"data row0 col11\" >0.133%</td>\n",
       "    </tr>\n",
       "    <tr>\n",
       "      <th id=\"T_69199_level0_row1\" class=\"row_heading level0 row1\" >2017-02</th>\n",
       "      <td id=\"T_69199_row1_col0\" class=\"data row1 col0\" >100.000%</td>\n",
       "      <td id=\"T_69199_row1_col1\" class=\"data row1 col1\" >0.238%</td>\n",
       "      <td id=\"T_69199_row1_col2\" class=\"data row1 col2\" >0.298%</td>\n",
       "      <td id=\"T_69199_row1_col3\" class=\"data row1 col3\" >0.119%</td>\n",
       "      <td id=\"T_69199_row1_col4\" class=\"data row1 col4\" >0.417%</td>\n",
       "      <td id=\"T_69199_row1_col5\" class=\"data row1 col5\" >0.119%</td>\n",
       "      <td id=\"T_69199_row1_col6\" class=\"data row1 col6\" >0.238%</td>\n",
       "      <td id=\"T_69199_row1_col7\" class=\"data row1 col7\" >0.179%</td>\n",
       "      <td id=\"T_69199_row1_col8\" class=\"data row1 col8\" >0.060%</td>\n",
       "      <td id=\"T_69199_row1_col9\" class=\"data row1 col9\" >0.179%</td>\n",
       "      <td id=\"T_69199_row1_col10\" class=\"data row1 col10\" >0.119%</td>\n",
       "      <td id=\"T_69199_row1_col11\" class=\"data row1 col11\" ></td>\n",
       "    </tr>\n",
       "    <tr>\n",
       "      <th id=\"T_69199_level0_row2\" class=\"row_heading level0 row2\" >2017-03</th>\n",
       "      <td id=\"T_69199_row2_col0\" class=\"data row2 col0\" >100.000%</td>\n",
       "      <td id=\"T_69199_row2_col1\" class=\"data row2 col1\" >0.506%</td>\n",
       "      <td id=\"T_69199_row2_col2\" class=\"data row2 col2\" >0.350%</td>\n",
       "      <td id=\"T_69199_row2_col3\" class=\"data row2 col3\" >0.389%</td>\n",
       "      <td id=\"T_69199_row2_col4\" class=\"data row2 col4\" >0.350%</td>\n",
       "      <td id=\"T_69199_row2_col5\" class=\"data row2 col5\" >0.156%</td>\n",
       "      <td id=\"T_69199_row2_col6\" class=\"data row2 col6\" >0.156%</td>\n",
       "      <td id=\"T_69199_row2_col7\" class=\"data row2 col7\" >0.311%</td>\n",
       "      <td id=\"T_69199_row2_col8\" class=\"data row2 col8\" >0.350%</td>\n",
       "      <td id=\"T_69199_row2_col9\" class=\"data row2 col9\" >0.078%</td>\n",
       "      <td id=\"T_69199_row2_col10\" class=\"data row2 col10\" ></td>\n",
       "      <td id=\"T_69199_row2_col11\" class=\"data row2 col11\" ></td>\n",
       "    </tr>\n",
       "    <tr>\n",
       "      <th id=\"T_69199_level0_row3\" class=\"row_heading level0 row3\" >2017-04</th>\n",
       "      <td id=\"T_69199_row3_col0\" class=\"data row3 col0\" >100.000%</td>\n",
       "      <td id=\"T_69199_row3_col1\" class=\"data row3 col1\" >0.602%</td>\n",
       "      <td id=\"T_69199_row3_col2\" class=\"data row3 col2\" >0.215%</td>\n",
       "      <td id=\"T_69199_row3_col3\" class=\"data row3 col3\" >0.172%</td>\n",
       "      <td id=\"T_69199_row3_col4\" class=\"data row3 col4\" >0.301%</td>\n",
       "      <td id=\"T_69199_row3_col5\" class=\"data row3 col5\" >0.258%</td>\n",
       "      <td id=\"T_69199_row3_col6\" class=\"data row3 col6\" >0.344%</td>\n",
       "      <td id=\"T_69199_row3_col7\" class=\"data row3 col7\" >0.301%</td>\n",
       "      <td id=\"T_69199_row3_col8\" class=\"data row3 col8\" >0.301%</td>\n",
       "      <td id=\"T_69199_row3_col9\" class=\"data row3 col9\" ></td>\n",
       "      <td id=\"T_69199_row3_col10\" class=\"data row3 col10\" ></td>\n",
       "      <td id=\"T_69199_row3_col11\" class=\"data row3 col11\" ></td>\n",
       "    </tr>\n",
       "    <tr>\n",
       "      <th id=\"T_69199_level0_row4\" class=\"row_heading level0 row4\" >2017-05</th>\n",
       "      <td id=\"T_69199_row4_col0\" class=\"data row4 col0\" >100.000%</td>\n",
       "      <td id=\"T_69199_row4_col1\" class=\"data row4 col1\" >0.480%</td>\n",
       "      <td id=\"T_69199_row4_col2\" class=\"data row4 col2\" >0.480%</td>\n",
       "      <td id=\"T_69199_row4_col3\" class=\"data row4 col3\" >0.395%</td>\n",
       "      <td id=\"T_69199_row4_col4\" class=\"data row4 col4\" >0.311%</td>\n",
       "      <td id=\"T_69199_row4_col5\" class=\"data row4 col5\" >0.339%</td>\n",
       "      <td id=\"T_69199_row4_col6\" class=\"data row4 col6\" >0.424%</td>\n",
       "      <td id=\"T_69199_row4_col7\" class=\"data row4 col7\" >0.141%</td>\n",
       "      <td id=\"T_69199_row4_col8\" class=\"data row4 col8\" ></td>\n",
       "      <td id=\"T_69199_row4_col9\" class=\"data row4 col9\" ></td>\n",
       "      <td id=\"T_69199_row4_col10\" class=\"data row4 col10\" ></td>\n",
       "      <td id=\"T_69199_row4_col11\" class=\"data row4 col11\" ></td>\n",
       "    </tr>\n",
       "    <tr>\n",
       "      <th id=\"T_69199_level0_row5\" class=\"row_heading level0 row5\" >2017-06</th>\n",
       "      <td id=\"T_69199_row5_col0\" class=\"data row5 col0\" >100.000%</td>\n",
       "      <td id=\"T_69199_row5_col1\" class=\"data row5 col1\" >0.451%</td>\n",
       "      <td id=\"T_69199_row5_col2\" class=\"data row5 col2\" >0.355%</td>\n",
       "      <td id=\"T_69199_row5_col3\" class=\"data row5 col3\" >0.387%</td>\n",
       "      <td id=\"T_69199_row5_col4\" class=\"data row5 col4\" >0.258%</td>\n",
       "      <td id=\"T_69199_row5_col5\" class=\"data row5 col5\" >0.387%</td>\n",
       "      <td id=\"T_69199_row5_col6\" class=\"data row5 col6\" >0.355%</td>\n",
       "      <td id=\"T_69199_row5_col7\" class=\"data row5 col7\" ></td>\n",
       "      <td id=\"T_69199_row5_col8\" class=\"data row5 col8\" ></td>\n",
       "      <td id=\"T_69199_row5_col9\" class=\"data row5 col9\" ></td>\n",
       "      <td id=\"T_69199_row5_col10\" class=\"data row5 col10\" ></td>\n",
       "      <td id=\"T_69199_row5_col11\" class=\"data row5 col11\" ></td>\n",
       "    </tr>\n",
       "    <tr>\n",
       "      <th id=\"T_69199_level0_row6\" class=\"row_heading level0 row6\" >2017-07</th>\n",
       "      <td id=\"T_69199_row6_col0\" class=\"data row6 col0\" >100.000%</td>\n",
       "      <td id=\"T_69199_row6_col1\" class=\"data row6 col1\" >0.523%</td>\n",
       "      <td id=\"T_69199_row6_col2\" class=\"data row6 col2\" >0.340%</td>\n",
       "      <td id=\"T_69199_row6_col3\" class=\"data row6 col3\" >0.235%</td>\n",
       "      <td id=\"T_69199_row6_col4\" class=\"data row6 col4\" >0.288%</td>\n",
       "      <td id=\"T_69199_row6_col5\" class=\"data row6 col5\" >0.209%</td>\n",
       "      <td id=\"T_69199_row6_col6\" class=\"data row6 col6\" ></td>\n",
       "      <td id=\"T_69199_row6_col7\" class=\"data row6 col7\" ></td>\n",
       "      <td id=\"T_69199_row6_col8\" class=\"data row6 col8\" ></td>\n",
       "      <td id=\"T_69199_row6_col9\" class=\"data row6 col9\" ></td>\n",
       "      <td id=\"T_69199_row6_col10\" class=\"data row6 col10\" ></td>\n",
       "      <td id=\"T_69199_row6_col11\" class=\"data row6 col11\" ></td>\n",
       "    </tr>\n",
       "    <tr>\n",
       "      <th id=\"T_69199_level0_row7\" class=\"row_heading level0 row7\" >2017-08</th>\n",
       "      <td id=\"T_69199_row7_col0\" class=\"data row7 col0\" >100.000%</td>\n",
       "      <td id=\"T_69199_row7_col1\" class=\"data row7 col1\" >0.678%</td>\n",
       "      <td id=\"T_69199_row7_col2\" class=\"data row7 col2\" >0.339%</td>\n",
       "      <td id=\"T_69199_row7_col3\" class=\"data row7 col3\" >0.266%</td>\n",
       "      <td id=\"T_69199_row7_col4\" class=\"data row7 col4\" >0.363%</td>\n",
       "      <td id=\"T_69199_row7_col5\" class=\"data row7 col5\" ></td>\n",
       "      <td id=\"T_69199_row7_col6\" class=\"data row7 col6\" ></td>\n",
       "      <td id=\"T_69199_row7_col7\" class=\"data row7 col7\" ></td>\n",
       "      <td id=\"T_69199_row7_col8\" class=\"data row7 col8\" ></td>\n",
       "      <td id=\"T_69199_row7_col9\" class=\"data row7 col9\" ></td>\n",
       "      <td id=\"T_69199_row7_col10\" class=\"data row7 col10\" ></td>\n",
       "      <td id=\"T_69199_row7_col11\" class=\"data row7 col11\" ></td>\n",
       "    </tr>\n",
       "    <tr>\n",
       "      <th id=\"T_69199_level0_row8\" class=\"row_heading level0 row8\" >2017-09</th>\n",
       "      <td id=\"T_69199_row8_col0\" class=\"data row8 col0\" >100.000%</td>\n",
       "      <td id=\"T_69199_row8_col1\" class=\"data row8 col1\" >0.687%</td>\n",
       "      <td id=\"T_69199_row8_col2\" class=\"data row8 col2\" >0.540%</td>\n",
       "      <td id=\"T_69199_row8_col3\" class=\"data row8 col3\" >0.294%</td>\n",
       "      <td id=\"T_69199_row8_col4\" class=\"data row8 col4\" ></td>\n",
       "      <td id=\"T_69199_row8_col5\" class=\"data row8 col5\" ></td>\n",
       "      <td id=\"T_69199_row8_col6\" class=\"data row8 col6\" ></td>\n",
       "      <td id=\"T_69199_row8_col7\" class=\"data row8 col7\" ></td>\n",
       "      <td id=\"T_69199_row8_col8\" class=\"data row8 col8\" ></td>\n",
       "      <td id=\"T_69199_row8_col9\" class=\"data row8 col9\" ></td>\n",
       "      <td id=\"T_69199_row8_col10\" class=\"data row8 col10\" ></td>\n",
       "      <td id=\"T_69199_row8_col11\" class=\"data row8 col11\" ></td>\n",
       "    </tr>\n",
       "    <tr>\n",
       "      <th id=\"T_69199_level0_row9\" class=\"row_heading level0 row9\" >2017-10</th>\n",
       "      <td id=\"T_69199_row9_col0\" class=\"data row9 col0\" >100.000%</td>\n",
       "      <td id=\"T_69199_row9_col1\" class=\"data row9 col1\" >0.706%</td>\n",
       "      <td id=\"T_69199_row9_col2\" class=\"data row9 col2\" >0.250%</td>\n",
       "      <td id=\"T_69199_row9_col3\" class=\"data row9 col3\" ></td>\n",
       "      <td id=\"T_69199_row9_col4\" class=\"data row9 col4\" ></td>\n",
       "      <td id=\"T_69199_row9_col5\" class=\"data row9 col5\" ></td>\n",
       "      <td id=\"T_69199_row9_col6\" class=\"data row9 col6\" ></td>\n",
       "      <td id=\"T_69199_row9_col7\" class=\"data row9 col7\" ></td>\n",
       "      <td id=\"T_69199_row9_col8\" class=\"data row9 col8\" ></td>\n",
       "      <td id=\"T_69199_row9_col9\" class=\"data row9 col9\" ></td>\n",
       "      <td id=\"T_69199_row9_col10\" class=\"data row9 col10\" ></td>\n",
       "      <td id=\"T_69199_row9_col11\" class=\"data row9 col11\" ></td>\n",
       "    </tr>\n",
       "    <tr>\n",
       "      <th id=\"T_69199_level0_row10\" class=\"row_heading level0 row10\" >2017-11</th>\n",
       "      <td id=\"T_69199_row10_col0\" class=\"data row10 col0\" >100.000%</td>\n",
       "      <td id=\"T_69199_row10_col1\" class=\"data row10 col1\" >0.556%</td>\n",
       "      <td id=\"T_69199_row10_col2\" class=\"data row10 col2\" ></td>\n",
       "      <td id=\"T_69199_row10_col3\" class=\"data row10 col3\" ></td>\n",
       "      <td id=\"T_69199_row10_col4\" class=\"data row10 col4\" ></td>\n",
       "      <td id=\"T_69199_row10_col5\" class=\"data row10 col5\" ></td>\n",
       "      <td id=\"T_69199_row10_col6\" class=\"data row10 col6\" ></td>\n",
       "      <td id=\"T_69199_row10_col7\" class=\"data row10 col7\" ></td>\n",
       "      <td id=\"T_69199_row10_col8\" class=\"data row10 col8\" ></td>\n",
       "      <td id=\"T_69199_row10_col9\" class=\"data row10 col9\" ></td>\n",
       "      <td id=\"T_69199_row10_col10\" class=\"data row10 col10\" ></td>\n",
       "      <td id=\"T_69199_row10_col11\" class=\"data row10 col11\" ></td>\n",
       "    </tr>\n",
       "    <tr>\n",
       "      <th id=\"T_69199_level0_row11\" class=\"row_heading level0 row11\" >2017-12</th>\n",
       "      <td id=\"T_69199_row11_col0\" class=\"data row11 col0\" >100.000%</td>\n",
       "      <td id=\"T_69199_row11_col1\" class=\"data row11 col1\" ></td>\n",
       "      <td id=\"T_69199_row11_col2\" class=\"data row11 col2\" ></td>\n",
       "      <td id=\"T_69199_row11_col3\" class=\"data row11 col3\" ></td>\n",
       "      <td id=\"T_69199_row11_col4\" class=\"data row11 col4\" ></td>\n",
       "      <td id=\"T_69199_row11_col5\" class=\"data row11 col5\" ></td>\n",
       "      <td id=\"T_69199_row11_col6\" class=\"data row11 col6\" ></td>\n",
       "      <td id=\"T_69199_row11_col7\" class=\"data row11 col7\" ></td>\n",
       "      <td id=\"T_69199_row11_col8\" class=\"data row11 col8\" ></td>\n",
       "      <td id=\"T_69199_row11_col9\" class=\"data row11 col9\" ></td>\n",
       "      <td id=\"T_69199_row11_col10\" class=\"data row11 col10\" ></td>\n",
       "      <td id=\"T_69199_row11_col11\" class=\"data row11 col11\" ></td>\n",
       "    </tr>\n",
       "  </tbody>\n",
       "</table>\n"
      ],
      "text/plain": [
       "<pandas.io.formats.style.Styler at 0x7f333c67b130>"
      ]
     },
     "execution_count": 67,
     "metadata": {},
     "output_type": "execute_result"
    }
   ],
   "source": [
    "(retention\n",
    " .style\n",
    " .set_caption('Customers retention by cohort') \n",
    " .background_gradient(cmap='RdYlBu_r')\n",
    " .highlight_null('white')\n",
    " .format(\"{:.3%}\", na_rep=\"\")\n",
    ")"
   ]
  },
  {
   "cell_type": "code",
   "execution_count": 68,
   "metadata": {},
   "outputs": [
    {
     "name": "stdout",
     "output_type": "stream",
     "text": [
      "Cohort with the highest retention on 3rd month: 2017-05\n"
     ]
    }
   ],
   "source": [
    "cohort_period = 3 # 3rd month\n",
    "\n",
    "print('Cohort with the highest retention on 3rd month:', retention.loc[:, cohort_period].idxmax())"
   ]
  },
  {
   "cell_type": "markdown",
   "metadata": {},
   "source": [
    "  \n",
    "  "
   ]
  },
  {
   "cell_type": "markdown",
   "metadata": {},
   "source": [
    "### 6  RFM-analysis "
   ]
  },
  {
   "cell_type": "markdown",
   "metadata": {},
   "source": [
    "To calculate M(Monetary) we will use **purchases** DF merged with products and orders data"
   ]
  },
  {
   "cell_type": "code",
   "execution_count": 69,
   "metadata": {},
   "outputs": [],
   "source": [
    "products_purchases = purchases.merge(orders_products, on='order_id', how='left')"
   ]
  },
  {
   "cell_type": "markdown",
   "metadata": {},
   "source": [
    "Keeping only neccessary columns"
   ]
  },
  {
   "cell_type": "code",
   "execution_count": 70,
   "metadata": {},
   "outputs": [],
   "source": [
    "products_purchases = products_purchases[['order_id', 'order_purchase_timestamp_x', 'customer_id_x', 'customer_unique_id',\n",
    "                                         'order_status_y', 'order_item_id', 'product_id', 'seller_id', 'shipping_limit_date',\n",
    "                                         'price', 'freight_value', 'order_approved_at_x']]\n",
    "\n",
    "products_purchases.rename(columns={'order_purchase_timestamp_x': 'order_purchase_timestamp',\n",
    "                                   'customer_id_x': 'customer_id',\n",
    "                                   'order_status_y': 'order_status', \n",
    "                                   'order_approved_at_x': 'order_approved_at'},\n",
    "                          inplace=True)\n"
   ]
  },
  {
   "cell_type": "markdown",
   "metadata": {},
   "source": [
    "Checkin orders earlies and latest dates."
   ]
  },
  {
   "cell_type": "code",
   "execution_count": 71,
   "metadata": {},
   "outputs": [
    {
     "name": "stdout",
     "output_type": "stream",
     "text": [
      "First order: 2016-09-04 21:15:19.\n",
      "Latest order: 2018-09-03 09:06:57\n"
     ]
    }
   ],
   "source": [
    "oldest_order = products_purchases.order_purchase_timestamp.min()\n",
    "newest_order = products_purchases.order_purchase_timestamp.max()\n",
    "\n",
    "print(f'First order: {oldest_order}.\\nLatest order: {newest_order}')"
   ]
  },
  {
   "cell_type": "markdown",
   "metadata": {},
   "source": [
    "We will use a period of one year. Only year 2017 in provided data contains such time difference"
   ]
  },
  {
   "cell_type": "code",
   "execution_count": 72,
   "metadata": {},
   "outputs": [],
   "source": [
    "products_purchases = products_purchases.query('(order_purchase_timestamp >= \"2017-01\") &\\\n",
    "                                               (order_purchase_timestamp < \"2018-01\")')"
   ]
  },
  {
   "cell_type": "code",
   "execution_count": 73,
   "metadata": {},
   "outputs": [
    {
     "name": "stdout",
     "output_type": "stream",
     "text": [
      "Analyzing period: from 2017-01-05 till 2017-12-31.\n"
     ]
    }
   ],
   "source": [
    "oldest_order = products_purchases.order_purchase_timestamp.min().date()\n",
    "newest_order = products_purchases.order_purchase_timestamp.max().date()\n",
    "\n",
    "print(f'Analyzing period: from {oldest_order} till {newest_order}.')"
   ]
  },
  {
   "cell_type": "code",
   "execution_count": 74,
   "metadata": {},
   "outputs": [],
   "source": [
    "rfm_today = products_purchases.order_purchase_timestamp.max() + pd.Timedelta(10, \"d\")"
   ]
  },
  {
   "cell_type": "markdown",
   "metadata": {},
   "source": [
    "Adding the column with days from last purches to our DF."
   ]
  },
  {
   "cell_type": "code",
   "execution_count": 75,
   "metadata": {},
   "outputs": [],
   "source": [
    "products_purchases['days_since_order'] = (rfm_today - products_purchases['order_approved_at']).dt.days"
   ]
  },
  {
   "cell_type": "code",
   "execution_count": 76,
   "metadata": {},
   "outputs": [
    {
     "name": "stdout",
     "output_type": "stream",
     "text": [
      "<class 'pandas.core.frame.DataFrame'>\n",
      "Int64Index: 50602 entries, 0 to 112088\n",
      "Data columns (total 13 columns):\n",
      " #   Column                    Non-Null Count  Dtype         \n",
      "---  ------                    --------------  -----         \n",
      " 0   order_id                  50602 non-null  object        \n",
      " 1   order_purchase_timestamp  50602 non-null  datetime64[ns]\n",
      " 2   customer_id               50602 non-null  object        \n",
      " 3   customer_unique_id        50602 non-null  object        \n",
      " 4   order_status              50602 non-null  object        \n",
      " 5   order_item_id             50602 non-null  float64       \n",
      " 6   product_id                50602 non-null  object        \n",
      " 7   seller_id                 50602 non-null  object        \n",
      " 8   shipping_limit_date       50602 non-null  datetime64[ns]\n",
      " 9   price                     50602 non-null  float64       \n",
      " 10  freight_value             50602 non-null  float64       \n",
      " 11  order_approved_at         50602 non-null  datetime64[ns]\n",
      " 12  days_since_order          50602 non-null  int64         \n",
      "dtypes: datetime64[ns](3), float64(3), int64(1), object(6)\n",
      "memory usage: 5.4+ MB\n"
     ]
    }
   ],
   "source": [
    "products_purchases.info()"
   ]
  },
  {
   "cell_type": "code",
   "execution_count": 77,
   "metadata": {},
   "outputs": [
    {
     "data": {
      "text/html": [
       "<div>\n",
       "<style scoped>\n",
       "    .dataframe tbody tr th:only-of-type {\n",
       "        vertical-align: middle;\n",
       "    }\n",
       "\n",
       "    .dataframe tbody tr th {\n",
       "        vertical-align: top;\n",
       "    }\n",
       "\n",
       "    .dataframe thead th {\n",
       "        text-align: right;\n",
       "    }\n",
       "</style>\n",
       "<table border=\"1\" class=\"dataframe\">\n",
       "  <thead>\n",
       "    <tr style=\"text-align: right;\">\n",
       "      <th></th>\n",
       "      <th>order_id</th>\n",
       "      <th>order_purchase_timestamp</th>\n",
       "      <th>customer_id</th>\n",
       "      <th>customer_unique_id</th>\n",
       "      <th>order_status</th>\n",
       "      <th>order_item_id</th>\n",
       "      <th>product_id</th>\n",
       "      <th>seller_id</th>\n",
       "      <th>shipping_limit_date</th>\n",
       "      <th>price</th>\n",
       "      <th>freight_value</th>\n",
       "      <th>order_approved_at</th>\n",
       "      <th>days_since_order</th>\n",
       "    </tr>\n",
       "  </thead>\n",
       "  <tbody>\n",
       "    <tr>\n",
       "      <th>0</th>\n",
       "      <td>00e7ee1b050b8499577073aeb2a297a1</td>\n",
       "      <td>2017-05-16 15:05:35</td>\n",
       "      <td>06b8999e2fba1a1fbc88172c00ba8bc7</td>\n",
       "      <td>861eff4711a542e4b93843c6dd7febb0</td>\n",
       "      <td>delivered</td>\n",
       "      <td>1.0</td>\n",
       "      <td>a9516a079e37a9c9c36b9b78b10169e8</td>\n",
       "      <td>7c67e1448b00f6e969d365cea6b010ab</td>\n",
       "      <td>2017-05-22 15:22:12</td>\n",
       "      <td>124.99</td>\n",
       "      <td>21.88</td>\n",
       "      <td>2017-05-16 15:22:12</td>\n",
       "      <td>239</td>\n",
       "    </tr>\n",
       "    <tr>\n",
       "      <th>5</th>\n",
       "      <td>5741ea1f91b5fbab2bd2dc653a5b5099</td>\n",
       "      <td>2017-09-14 18:14:31</td>\n",
       "      <td>879864dab9bc3047522c92c82e1212b8</td>\n",
       "      <td>4c93744516667ad3b8f1fb645a3116a4</td>\n",
       "      <td>delivered</td>\n",
       "      <td>1.0</td>\n",
       "      <td>0be701e03657109a8a4d5168122777fb</td>\n",
       "      <td>8f2ce03f928b567e3d56181ae20ae952</td>\n",
       "      <td>2017-09-20 18:25:11</td>\n",
       "      <td>259.90</td>\n",
       "      <td>22.31</td>\n",
       "      <td>2017-09-14 18:25:11</td>\n",
       "      <td>118</td>\n",
       "    </tr>\n",
       "    <tr>\n",
       "      <th>7</th>\n",
       "      <td>1093c8304c7a003280dd34598194913d</td>\n",
       "      <td>2017-11-16 19:29:02</td>\n",
       "      <td>5e274e7a0c3809e14aba7ad5aae0d407</td>\n",
       "      <td>57b2a98a409812fe9618067b6b8ebe4f</td>\n",
       "      <td>delivered</td>\n",
       "      <td>1.0</td>\n",
       "      <td>124f74f703e88efe001a10bfa718b6ff</td>\n",
       "      <td>2a7dc43cecabf23403078e2188437d1d</td>\n",
       "      <td>2017-11-22 19:55:41</td>\n",
       "      <td>19.90</td>\n",
       "      <td>16.11</td>\n",
       "      <td>2017-11-16 19:55:41</td>\n",
       "      <td>55</td>\n",
       "    </tr>\n",
       "    <tr>\n",
       "      <th>10</th>\n",
       "      <td>8428e578bb1cf839ae26a6b7615502b9</td>\n",
       "      <td>2017-11-27 17:23:20</td>\n",
       "      <td>9fb35e4ed6f0a14a4977cd9aea4042bb</td>\n",
       "      <td>2a7745e1ed516b289ed9b29c7d0539a5</td>\n",
       "      <td>delivered</td>\n",
       "      <td>1.0</td>\n",
       "      <td>6b874ff4c71d18e91079b40396bf176a</td>\n",
       "      <td>b6e1504972665f739dec4facb9943775</td>\n",
       "      <td>2017-12-01 18:01:20</td>\n",
       "      <td>25.30</td>\n",
       "      <td>15.10</td>\n",
       "      <td>2017-11-27 18:01:20</td>\n",
       "      <td>44</td>\n",
       "    </tr>\n",
       "    <tr>\n",
       "      <th>12</th>\n",
       "      <td>83d8f70418eefd96f37b483dff430305</td>\n",
       "      <td>2017-09-09 09:54:57</td>\n",
       "      <td>b2d1536598b73a9abd18e0d75d92f0a3</td>\n",
       "      <td>918dc87cd72cd9f6ed4bd442ed785235</td>\n",
       "      <td>delivered</td>\n",
       "      <td>1.0</td>\n",
       "      <td>3fc00af0f0a8d4ac2933d3900416c977</td>\n",
       "      <td>7a241947449cc45dbfda4f9d0798d9d0</td>\n",
       "      <td>2017-09-14 10:10:17</td>\n",
       "      <td>99.00</td>\n",
       "      <td>18.31</td>\n",
       "      <td>2017-09-09 10:10:17</td>\n",
       "      <td>123</td>\n",
       "    </tr>\n",
       "  </tbody>\n",
       "</table>\n",
       "</div>"
      ],
      "text/plain": [
       "                            order_id order_purchase_timestamp  \\\n",
       "0   00e7ee1b050b8499577073aeb2a297a1      2017-05-16 15:05:35   \n",
       "5   5741ea1f91b5fbab2bd2dc653a5b5099      2017-09-14 18:14:31   \n",
       "7   1093c8304c7a003280dd34598194913d      2017-11-16 19:29:02   \n",
       "10  8428e578bb1cf839ae26a6b7615502b9      2017-11-27 17:23:20   \n",
       "12  83d8f70418eefd96f37b483dff430305      2017-09-09 09:54:57   \n",
       "\n",
       "                         customer_id                customer_unique_id  \\\n",
       "0   06b8999e2fba1a1fbc88172c00ba8bc7  861eff4711a542e4b93843c6dd7febb0   \n",
       "5   879864dab9bc3047522c92c82e1212b8  4c93744516667ad3b8f1fb645a3116a4   \n",
       "7   5e274e7a0c3809e14aba7ad5aae0d407  57b2a98a409812fe9618067b6b8ebe4f   \n",
       "10  9fb35e4ed6f0a14a4977cd9aea4042bb  2a7745e1ed516b289ed9b29c7d0539a5   \n",
       "12  b2d1536598b73a9abd18e0d75d92f0a3  918dc87cd72cd9f6ed4bd442ed785235   \n",
       "\n",
       "   order_status  order_item_id                        product_id  \\\n",
       "0     delivered            1.0  a9516a079e37a9c9c36b9b78b10169e8   \n",
       "5     delivered            1.0  0be701e03657109a8a4d5168122777fb   \n",
       "7     delivered            1.0  124f74f703e88efe001a10bfa718b6ff   \n",
       "10    delivered            1.0  6b874ff4c71d18e91079b40396bf176a   \n",
       "12    delivered            1.0  3fc00af0f0a8d4ac2933d3900416c977   \n",
       "\n",
       "                           seller_id shipping_limit_date   price  \\\n",
       "0   7c67e1448b00f6e969d365cea6b010ab 2017-05-22 15:22:12  124.99   \n",
       "5   8f2ce03f928b567e3d56181ae20ae952 2017-09-20 18:25:11  259.90   \n",
       "7   2a7dc43cecabf23403078e2188437d1d 2017-11-22 19:55:41   19.90   \n",
       "10  b6e1504972665f739dec4facb9943775 2017-12-01 18:01:20   25.30   \n",
       "12  7a241947449cc45dbfda4f9d0798d9d0 2017-09-14 10:10:17   99.00   \n",
       "\n",
       "    freight_value   order_approved_at  days_since_order  \n",
       "0           21.88 2017-05-16 15:22:12               239  \n",
       "5           22.31 2017-09-14 18:25:11               118  \n",
       "7           16.11 2017-11-16 19:55:41                55  \n",
       "10          15.10 2017-11-27 18:01:20                44  \n",
       "12          18.31 2017-09-09 10:10:17               123  "
      ]
     },
     "execution_count": 77,
     "metadata": {},
     "output_type": "execute_result"
    }
   ],
   "source": [
    "products_purchases.head(5)"
   ]
  },
  {
   "cell_type": "code",
   "execution_count": 78,
   "metadata": {},
   "outputs": [
    {
     "name": "stdout",
     "output_type": "stream",
     "text": [
      "43017 unique clients made 44361 orders.\n"
     ]
    }
   ],
   "source": [
    "uniq_customers = products_purchases.customer_unique_id.nunique()\n",
    "uniq_orders    = products_purchases.order_id.nunique()\n",
    "\n",
    "print(f'{uniq_customers} unique clients made {uniq_orders} orders.')"
   ]
  },
  {
   "cell_type": "markdown",
   "metadata": {},
   "source": [
    "Calculating **Recency** and **Frequency**."
   ]
  },
  {
   "cell_type": "markdown",
   "metadata": {},
   "source": [
    "For implementing the RFM approach, we need to get one row per customer over a period of one year (365 days).  \n",
    "To do this, we will group the data by customers.  \n",
    "**Recency**   - the minimum of the number of time difference from the last order for each client.  \n",
    "**Frequency** - the number of orders for the reviewed period."
   ]
  },
  {
   "cell_type": "code",
   "execution_count": 79,
   "metadata": {},
   "outputs": [],
   "source": [
    "rfm = (products_purchases\n",
    "       .groupby('customer_unique_id', as_index=False)\n",
    "       .agg(Recency=('days_since_order', 'min'), Frequency=('order_id', 'count'))\n",
    "      )"
   ]
  },
  {
   "cell_type": "markdown",
   "metadata": {},
   "source": [
    "Now we need to add the **Monetary** metric for each unique client.  \n",
    "\n",
    "Even though **'price'** is the item price in the data description, we have absolutely no data about the quantity of the items in the orders.  \n",
    "Therefore, we will assume that in fact this is the total cost of the position in the order."
   ]
  },
  {
   "cell_type": "code",
   "execution_count": 80,
   "metadata": {},
   "outputs": [],
   "source": [
    "customers_monetary = (products_purchases\n",
    "                      .groupby('customer_unique_id', as_index=False)\n",
    "                      .agg(Monetary=('price', 'sum'))\n",
    "                     )"
   ]
  },
  {
   "cell_type": "markdown",
   "metadata": {},
   "source": [
    "Adding R, F, M to the data."
   ]
  },
  {
   "cell_type": "code",
   "execution_count": 81,
   "metadata": {},
   "outputs": [
    {
     "data": {
      "text/html": [
       "<div>\n",
       "<style scoped>\n",
       "    .dataframe tbody tr th:only-of-type {\n",
       "        vertical-align: middle;\n",
       "    }\n",
       "\n",
       "    .dataframe tbody tr th {\n",
       "        vertical-align: top;\n",
       "    }\n",
       "\n",
       "    .dataframe thead th {\n",
       "        text-align: right;\n",
       "    }\n",
       "</style>\n",
       "<table border=\"1\" class=\"dataframe\">\n",
       "  <thead>\n",
       "    <tr style=\"text-align: right;\">\n",
       "      <th></th>\n",
       "      <th>Recency</th>\n",
       "      <th>Frequency</th>\n",
       "      <th>Monetary</th>\n",
       "    </tr>\n",
       "  </thead>\n",
       "  <tbody>\n",
       "    <tr>\n",
       "      <th>count</th>\n",
       "      <td>43017.000000</td>\n",
       "      <td>43017.000000</td>\n",
       "      <td>43017.000000</td>\n",
       "    </tr>\n",
       "    <tr>\n",
       "      <th>mean</th>\n",
       "      <td>146.400353</td>\n",
       "      <td>1.176326</td>\n",
       "      <td>141.962988</td>\n",
       "    </tr>\n",
       "    <tr>\n",
       "      <th>std</th>\n",
       "      <td>95.550014</td>\n",
       "      <td>0.600461</td>\n",
       "      <td>223.837474</td>\n",
       "    </tr>\n",
       "    <tr>\n",
       "      <th>min</th>\n",
       "      <td>6.000000</td>\n",
       "      <td>1.000000</td>\n",
       "      <td>2.290000</td>\n",
       "    </tr>\n",
       "    <tr>\n",
       "      <th>25%</th>\n",
       "      <td>56.000000</td>\n",
       "      <td>1.000000</td>\n",
       "      <td>47.990000</td>\n",
       "    </tr>\n",
       "    <tr>\n",
       "      <th>50%</th>\n",
       "      <td>132.000000</td>\n",
       "      <td>1.000000</td>\n",
       "      <td>89.000000</td>\n",
       "    </tr>\n",
       "    <tr>\n",
       "      <th>75%</th>\n",
       "      <td>222.000000</td>\n",
       "      <td>1.000000</td>\n",
       "      <td>155.000000</td>\n",
       "    </tr>\n",
       "    <tr>\n",
       "      <th>max</th>\n",
       "      <td>370.000000</td>\n",
       "      <td>21.000000</td>\n",
       "      <td>13440.000000</td>\n",
       "    </tr>\n",
       "  </tbody>\n",
       "</table>\n",
       "</div>"
      ],
      "text/plain": [
       "            Recency     Frequency      Monetary\n",
       "count  43017.000000  43017.000000  43017.000000\n",
       "mean     146.400353      1.176326    141.962988\n",
       "std       95.550014      0.600461    223.837474\n",
       "min        6.000000      1.000000      2.290000\n",
       "25%       56.000000      1.000000     47.990000\n",
       "50%      132.000000      1.000000     89.000000\n",
       "75%      222.000000      1.000000    155.000000\n",
       "max      370.000000     21.000000  13440.000000"
      ]
     },
     "execution_count": 81,
     "metadata": {},
     "output_type": "execute_result"
    }
   ],
   "source": [
    "rfm = rfm.merge(customers_monetary, on='customer_unique_id')\n",
    "rfm.describe()"
   ]
  },
  {
   "cell_type": "code",
   "execution_count": 82,
   "metadata": {},
   "outputs": [
    {
     "data": {
      "text/html": [
       "<div>\n",
       "<style scoped>\n",
       "    .dataframe tbody tr th:only-of-type {\n",
       "        vertical-align: middle;\n",
       "    }\n",
       "\n",
       "    .dataframe tbody tr th {\n",
       "        vertical-align: top;\n",
       "    }\n",
       "\n",
       "    .dataframe thead th {\n",
       "        text-align: right;\n",
       "    }\n",
       "</style>\n",
       "<table border=\"1\" class=\"dataframe\">\n",
       "  <thead>\n",
       "    <tr style=\"text-align: right;\">\n",
       "      <th></th>\n",
       "      <th>customer_unique_id</th>\n",
       "      <th>Recency</th>\n",
       "      <th>Frequency</th>\n",
       "      <th>Monetary</th>\n",
       "    </tr>\n",
       "  </thead>\n",
       "  <tbody>\n",
       "    <tr>\n",
       "      <th>0</th>\n",
       "      <td>0000f46a3911fa3c0805444483337064</td>\n",
       "      <td>306</td>\n",
       "      <td>1</td>\n",
       "      <td>69.00</td>\n",
       "    </tr>\n",
       "    <tr>\n",
       "      <th>1</th>\n",
       "      <td>0000f6ccb0745a6a4b88665a16c9f078</td>\n",
       "      <td>90</td>\n",
       "      <td>1</td>\n",
       "      <td>25.99</td>\n",
       "    </tr>\n",
       "    <tr>\n",
       "      <th>2</th>\n",
       "      <td>0004aac84e0df4da2b147fca70cf8255</td>\n",
       "      <td>57</td>\n",
       "      <td>1</td>\n",
       "      <td>180.00</td>\n",
       "    </tr>\n",
       "    <tr>\n",
       "      <th>3</th>\n",
       "      <td>0005e1862207bf6ccc02e4228effd9a0</td>\n",
       "      <td>311</td>\n",
       "      <td>1</td>\n",
       "      <td>135.00</td>\n",
       "    </tr>\n",
       "    <tr>\n",
       "      <th>4</th>\n",
       "      <td>0006fdc98a402fceb4eb0ee528f6a8d4</td>\n",
       "      <td>176</td>\n",
       "      <td>1</td>\n",
       "      <td>13.90</td>\n",
       "    </tr>\n",
       "  </tbody>\n",
       "</table>\n",
       "</div>"
      ],
      "text/plain": [
       "                 customer_unique_id  Recency  Frequency  Monetary\n",
       "0  0000f46a3911fa3c0805444483337064      306          1     69.00\n",
       "1  0000f6ccb0745a6a4b88665a16c9f078       90          1     25.99\n",
       "2  0004aac84e0df4da2b147fca70cf8255       57          1    180.00\n",
       "3  0005e1862207bf6ccc02e4228effd9a0      311          1    135.00\n",
       "4  0006fdc98a402fceb4eb0ee528f6a8d4      176          1     13.90"
      ]
     },
     "execution_count": 82,
     "metadata": {},
     "output_type": "execute_result"
    }
   ],
   "source": [
    "rfm.head(5)"
   ]
  },
  {
   "cell_type": "markdown",
   "metadata": {},
   "source": [
    "Declaring variable **metrics** for futher vizes. This variable contains the number of reviewed metrics."
   ]
  },
  {
   "cell_type": "code",
   "execution_count": 83,
   "metadata": {},
   "outputs": [],
   "source": [
    "metrics = 3"
   ]
  },
  {
   "cell_type": "markdown",
   "metadata": {},
   "source": [
    "Plotting the R, F and M distributions"
   ]
  },
  {
   "cell_type": "code",
   "execution_count": 84,
   "metadata": {},
   "outputs": [
    {
     "data": {
      "image/png": "[encoded data removed]",
      "text/plain": [
       "<Figure size 720x720 with 3 Axes>"
      ]
     },
     "metadata": {},
     "output_type": "display_data"
    }
   ],
   "source": [
    "f, axes = plt.subplots(metrics, 1, figsize=(10,10))\n",
    "\n",
    "for i in range(metrics):   \n",
    "    ax     = axes[i]\n",
    "    column = i + 1\n",
    "    \n",
    "    sns.histplot(data=rfm[rfm.columns[column]], ax=ax)\n",
    "    \n",
    "    ax.set_xlabel(rfm.columns[i+1])\n",
    "    ax.set_ylabel('Amount of clients') \n",
    "\n",
    "plt.suptitle('Distribution of clients by Recency, Frequency and Monetary')\n",
    "plt.subplots_adjust(hspace=0.5)\n",
    "sns.despine()\n",
    "plt.show()"
   ]
  },
  {
   "cell_type": "markdown",
   "metadata": {},
   "source": [
    "Only **Recency** has a more or less uniform distribution.  \n",
    "**Frequency** and **Monetary** are heavily skewed to the left.  \n",
    "Let's start dividing customers into segments with a quantile approach.  \n",
    "Theoretically, this approach will allow us to apply the algorithm with any new data."
   ]
  },
  {
   "cell_type": "code",
   "execution_count": 85,
   "metadata": {},
   "outputs": [
    {
     "data": {
      "text/plain": [
       "{'Recency': {0.2: 47.0, 0.4: 100.0, 0.6: 165.0, 0.8: 241.0},\n",
       " 'Frequency': {0.2: 1.0, 0.4: 1.0, 0.6: 1.0, 0.8: 1.0},\n",
       " 'Monetary': {0.2: 39.9, 0.4: 68.9, 0.6: 108.57599999999991, 0.8: 179.96}}"
      ]
     },
     "execution_count": 85,
     "metadata": {},
     "output_type": "execute_result"
    }
   ],
   "source": [
    "quantiles = rfm[['Recency', 'Frequency', 'Monetary']].quantile([.2, .4, .6, .8]).to_dict()\n",
    "quantiles"
   ]
  },
  {
   "cell_type": "markdown",
   "metadata": {},
   "source": [
    "Obviously quantile approach will not work for **Frequency** for the provided data"
   ]
  },
  {
   "cell_type": "markdown",
   "metadata": {},
   "source": [
    "Let's take a closer look at this metrics."
   ]
  },
  {
   "cell_type": "code",
   "execution_count": 86,
   "metadata": {},
   "outputs": [
    {
     "data": {
      "text/plain": [
       "1    37722\n",
       "2     4014\n",
       "3      753\n",
       "4      309\n",
       "5      104\n",
       "6       75\n",
       "7       12\n",
       "Name: Frequency, dtype: int64"
      ]
     },
     "execution_count": 86,
     "metadata": {},
     "output_type": "execute_result"
    }
   ],
   "source": [
    "rfm.Frequency.value_counts().head(7)"
   ]
  },
  {
   "cell_type": "markdown",
   "metadata": {},
   "source": [
    "Based on the data above, the segmentation of the **Frequency** metric seems reasonable into groups by the number of purchased: 1, 2, 3, 4, 5+"
   ]
  },
  {
   "cell_type": "code",
   "execution_count": 87,
   "metadata": {},
   "outputs": [
    {
     "data": {
      "text/plain": [
       "{'Recency': {0.2: 47.0, 0.4: 100.0, 0.6: 165.0, 0.8: 241.0},\n",
       " 'Frequency': {0.2: 1.0, 0.4: 2.0, 0.6: 3.0, 0.8: 4.0, 1.0: 5.0},\n",
       " 'Monetary': {0.2: 39.9, 0.4: 68.9, 0.6: 108.57599999999991, 0.8: 179.96}}"
      ]
     },
     "execution_count": 87,
     "metadata": {},
     "output_type": "execute_result"
    }
   ],
   "source": [
    "q = dict()\n",
    "for i in range(1,6):\n",
    "    q[i/5] = float(i)\n",
    "    \n",
    "quantiles['Frequency'] = q\n",
    "quantiles"
   ]
  },
  {
   "cell_type": "markdown",
   "metadata": {},
   "source": [
    "Segments description (5 - best, 1 - worst):  \n",
    "\n",
    "1. **Recency**:  \n",
    "\n",
    "    1) 241 days and above   \n",
    "    2) 165-240 days  \n",
    "    3) 101-164 days    \n",
    "    4) 47-100 days    \n",
    "    5) 0-46 days  \n",
    "    \n",
    "\n",
    "2. **Frequency**:  \n",
    "    \n",
    "    1) 1 purchase  \n",
    "    2) 2 purchases  \n",
    "    3) 3 purchases  \n",
    "    4) 4 purchases  \n",
    "    5) 5 purchases and above  \n",
    "    \n",
    "\n",
    "3. **Monetary**:  \n",
    "\n",
    "    1) Purchase amount 0-39.9  \n",
    "    2) Purchase amount 40-68.9  \n",
    "    3) Purchase amount 69-108.6  \n",
    "    4) Purchase amount 109-180  \n",
    "    5) Purchase amount 180 and above\n",
    "    \n",
    "\n",
    "It is important to note that only the **frequency** is set manually and will be evaluated regardless of the dataset.  \n",
    "The remaining two metrics are calculated based on the provided data.  \n",
    "Therefore, the description above for these two parameters corresponds only to this dataset.  \n",
    "They will be adapted as the data changes."
   ]
  },
  {
   "cell_type": "markdown",
   "metadata": {},
   "source": [
    "We will use the function prepared for this project to apply R, F and M scores regarding the info above"
   ]
  },
  {
   "cell_type": "code",
   "execution_count": 88,
   "metadata": {},
   "outputs": [
    {
     "name": "stdout",
     "output_type": "stream",
     "text": [
      "Help on function scorer in module rfm_secondary_funcs:\n",
      "\n",
      "scorer(param, param_name, quantiles)\n",
      "    Parameters:\n",
      "        param      - pd.Series contains RFM metric\n",
      "        param_name - name of RFM metric  \n",
      "        quantiles  - dict with R, F and M splits\n",
      "    Returns:\n",
      "        Score for passed metric, depending on metric name\n",
      "\n"
     ]
    }
   ],
   "source": [
    "help(scorer)"
   ]
  },
  {
   "cell_type": "code",
   "execution_count": 89,
   "metadata": {},
   "outputs": [],
   "source": [
    "rfm['r_score'] = rfm['Recency'].apply(lambda x: scorer(x, 'Recency', quantiles))\n",
    "rfm['f_score'] = rfm['Frequency'].apply(lambda x: scorer(x, 'Frequency', quantiles))\n",
    "rfm['m_score'] = rfm['Monetary'].apply(lambda x: scorer(x, 'Monetary', quantiles))"
   ]
  },
  {
   "cell_type": "markdown",
   "metadata": {},
   "source": [
    "Calculating the RFM score"
   ]
  },
  {
   "cell_type": "code",
   "execution_count": 90,
   "metadata": {},
   "outputs": [],
   "source": [
    "rfm['rfm_score'] = rfm['r_score'] + rfm['f_score'] + rfm['m_score']"
   ]
  },
  {
   "cell_type": "code",
   "execution_count": 91,
   "metadata": {},
   "outputs": [
    {
     "data": {
      "text/html": [
       "<div>\n",
       "<style scoped>\n",
       "    .dataframe tbody tr th:only-of-type {\n",
       "        vertical-align: middle;\n",
       "    }\n",
       "\n",
       "    .dataframe tbody tr th {\n",
       "        vertical-align: top;\n",
       "    }\n",
       "\n",
       "    .dataframe thead th {\n",
       "        text-align: right;\n",
       "    }\n",
       "</style>\n",
       "<table border=\"1\" class=\"dataframe\">\n",
       "  <thead>\n",
       "    <tr style=\"text-align: right;\">\n",
       "      <th></th>\n",
       "      <th>customer_unique_id</th>\n",
       "      <th>Recency</th>\n",
       "      <th>Frequency</th>\n",
       "      <th>Monetary</th>\n",
       "      <th>r_score</th>\n",
       "      <th>f_score</th>\n",
       "      <th>m_score</th>\n",
       "      <th>rfm_score</th>\n",
       "    </tr>\n",
       "  </thead>\n",
       "  <tbody>\n",
       "    <tr>\n",
       "      <th>0</th>\n",
       "      <td>0000f46a3911fa3c0805444483337064</td>\n",
       "      <td>306</td>\n",
       "      <td>1</td>\n",
       "      <td>69.00</td>\n",
       "      <td>1</td>\n",
       "      <td>1</td>\n",
       "      <td>3</td>\n",
       "      <td>113</td>\n",
       "    </tr>\n",
       "    <tr>\n",
       "      <th>1</th>\n",
       "      <td>0000f6ccb0745a6a4b88665a16c9f078</td>\n",
       "      <td>90</td>\n",
       "      <td>1</td>\n",
       "      <td>25.99</td>\n",
       "      <td>4</td>\n",
       "      <td>1</td>\n",
       "      <td>1</td>\n",
       "      <td>411</td>\n",
       "    </tr>\n",
       "    <tr>\n",
       "      <th>2</th>\n",
       "      <td>0004aac84e0df4da2b147fca70cf8255</td>\n",
       "      <td>57</td>\n",
       "      <td>1</td>\n",
       "      <td>180.00</td>\n",
       "      <td>4</td>\n",
       "      <td>1</td>\n",
       "      <td>5</td>\n",
       "      <td>415</td>\n",
       "    </tr>\n",
       "    <tr>\n",
       "      <th>3</th>\n",
       "      <td>0005e1862207bf6ccc02e4228effd9a0</td>\n",
       "      <td>311</td>\n",
       "      <td>1</td>\n",
       "      <td>135.00</td>\n",
       "      <td>1</td>\n",
       "      <td>1</td>\n",
       "      <td>4</td>\n",
       "      <td>114</td>\n",
       "    </tr>\n",
       "    <tr>\n",
       "      <th>4</th>\n",
       "      <td>0006fdc98a402fceb4eb0ee528f6a8d4</td>\n",
       "      <td>176</td>\n",
       "      <td>1</td>\n",
       "      <td>13.90</td>\n",
       "      <td>2</td>\n",
       "      <td>1</td>\n",
       "      <td>1</td>\n",
       "      <td>211</td>\n",
       "    </tr>\n",
       "  </tbody>\n",
       "</table>\n",
       "</div>"
      ],
      "text/plain": [
       "                 customer_unique_id  Recency  Frequency  Monetary r_score  \\\n",
       "0  0000f46a3911fa3c0805444483337064      306          1     69.00       1   \n",
       "1  0000f6ccb0745a6a4b88665a16c9f078       90          1     25.99       4   \n",
       "2  0004aac84e0df4da2b147fca70cf8255       57          1    180.00       4   \n",
       "3  0005e1862207bf6ccc02e4228effd9a0      311          1    135.00       1   \n",
       "4  0006fdc98a402fceb4eb0ee528f6a8d4      176          1     13.90       2   \n",
       "\n",
       "  f_score m_score rfm_score  \n",
       "0       1       3       113  \n",
       "1       1       1       411  \n",
       "2       1       5       415  \n",
       "3       1       4       114  \n",
       "4       1       1       211  "
      ]
     },
     "execution_count": 91,
     "metadata": {},
     "output_type": "execute_result"
    }
   ],
   "source": [
    "rfm.head()"
   ]
  },
  {
   "cell_type": "code",
   "execution_count": 92,
   "metadata": {},
   "outputs": [
    {
     "name": "stdout",
     "output_type": "stream",
     "text": [
      "Unique RFM scores: 120\n"
     ]
    }
   ],
   "source": [
    "print(f'Unique RFM scores: {rfm.rfm_score.nunique()}')"
   ]
  },
  {
   "cell_type": "markdown",
   "metadata": {},
   "source": [
    "120 unique scores is too much, therefore, additional segmentation into broader groups needs to be carried out."
   ]
  },
  {
   "cell_type": "markdown",
   "metadata": {},
   "source": [
    "| Split | Description | Type of customer |\n",
    "| :--- | :--- | :--- |\n",
    "| [1-3]1[1-5] | recent purchase, 1 purchase | new client | \n",
    "| [1-3][2-4][1-3] | recent purchase, 2-4 purchases, small purchase amount | potentially loyal customer | \n",
    "| [1-3][2-4][4-5] | recent purchase, 2-4 purchases, high purchase amount | potentially top customer |\n",
    "| [1-3]5[1-3] | recent Purchase, 5+ purchases, small purchase amount | loyal customer |\n",
    "| [1-3]5[4-5] | recent Purchase, 5+ purchases, high purchase amount | top customer |\n",
    "| [4-5]1[1-5] | old purchase, 1 purchase | probably lost customer |\n",
    "| [4-5][2-4][1-5] | old purchase, 2-4 purchases | second prior focus |\n",
    "| [4-5]5[1-5] | old purchase, 5+ purchases | first prior focus |\n"
   ]
  },
  {
   "cell_type": "code",
   "execution_count": 93,
   "metadata": {},
   "outputs": [],
   "source": [
    "split = ['[1-3]1[1-5]', '[1-3][2-4][1-3]', '[1-3][2-4][4-5]', '[1-3]5[1-3]',\n",
    "         '[1-3]5[4-5]', '[4-5]1[1-5]', '[4-5][2-4][1-5]', '[4-5]5[1-5]']\n",
    "\n",
    "desc = ['new customer', 'potentially loyal customer', 'potentially top customer', 'loyal customer', \n",
    "        'top customer', 'probably lost customer', 'second prior focus', 'first prior focus']\n",
    "\n",
    "segments = pd.DataFrame({'rfm_split': split,'description': desc})"
   ]
  },
  {
   "cell_type": "markdown",
   "metadata": {},
   "source": [
    "Segments with a description containing **'focus'** are customers worth trying to influence.  \n",
    "Remind about our store, make targeted advertising, provide a personal offer (discount)"
   ]
  },
  {
   "cell_type": "markdown",
   "metadata": {},
   "source": [
    "Applying described above segmentation to our data. Using the 'segmenter' function prepared for this project"
   ]
  },
  {
   "cell_type": "code",
   "execution_count": 94,
   "metadata": {},
   "outputs": [
    {
     "name": "stdout",
     "output_type": "stream",
     "text": [
      "Help on function segmenter in module rfm_secondary_funcs:\n",
      "\n",
      "segmenter(s, segments)\n",
      "    Parameters:\n",
      "        s        - RFM-score\n",
      "        segments - pd.DataFrame with split codes and descriptions\n",
      "    Returns:\n",
      "        segment description or '000' if R, F or M score don't belong to expected range\n",
      "\n"
     ]
    }
   ],
   "source": [
    "help(segmenter)"
   ]
  },
  {
   "cell_type": "code",
   "execution_count": 95,
   "metadata": {},
   "outputs": [],
   "source": [
    "rfm['segment'] = rfm['rfm_score'].apply(lambda x: segmenter(x, segments))"
   ]
  },
  {
   "cell_type": "code",
   "execution_count": 96,
   "metadata": {},
   "outputs": [
    {
     "data": {
      "text/html": [
       "<div>\n",
       "<style scoped>\n",
       "    .dataframe tbody tr th:only-of-type {\n",
       "        vertical-align: middle;\n",
       "    }\n",
       "\n",
       "    .dataframe tbody tr th {\n",
       "        vertical-align: top;\n",
       "    }\n",
       "\n",
       "    .dataframe thead th {\n",
       "        text-align: right;\n",
       "    }\n",
       "</style>\n",
       "<table border=\"1\" class=\"dataframe\">\n",
       "  <thead>\n",
       "    <tr style=\"text-align: right;\">\n",
       "      <th></th>\n",
       "      <th>customer_unique_id</th>\n",
       "      <th>Recency</th>\n",
       "      <th>Frequency</th>\n",
       "      <th>Monetary</th>\n",
       "      <th>r_score</th>\n",
       "      <th>f_score</th>\n",
       "      <th>m_score</th>\n",
       "      <th>rfm_score</th>\n",
       "      <th>segment</th>\n",
       "    </tr>\n",
       "  </thead>\n",
       "  <tbody>\n",
       "    <tr>\n",
       "      <th>0</th>\n",
       "      <td>0000f46a3911fa3c0805444483337064</td>\n",
       "      <td>306</td>\n",
       "      <td>1</td>\n",
       "      <td>69.00</td>\n",
       "      <td>1</td>\n",
       "      <td>1</td>\n",
       "      <td>3</td>\n",
       "      <td>113</td>\n",
       "      <td>new customer</td>\n",
       "    </tr>\n",
       "    <tr>\n",
       "      <th>1</th>\n",
       "      <td>0000f6ccb0745a6a4b88665a16c9f078</td>\n",
       "      <td>90</td>\n",
       "      <td>1</td>\n",
       "      <td>25.99</td>\n",
       "      <td>4</td>\n",
       "      <td>1</td>\n",
       "      <td>1</td>\n",
       "      <td>411</td>\n",
       "      <td>probably lost customer</td>\n",
       "    </tr>\n",
       "    <tr>\n",
       "      <th>2</th>\n",
       "      <td>0004aac84e0df4da2b147fca70cf8255</td>\n",
       "      <td>57</td>\n",
       "      <td>1</td>\n",
       "      <td>180.00</td>\n",
       "      <td>4</td>\n",
       "      <td>1</td>\n",
       "      <td>5</td>\n",
       "      <td>415</td>\n",
       "      <td>probably lost customer</td>\n",
       "    </tr>\n",
       "    <tr>\n",
       "      <th>3</th>\n",
       "      <td>0005e1862207bf6ccc02e4228effd9a0</td>\n",
       "      <td>311</td>\n",
       "      <td>1</td>\n",
       "      <td>135.00</td>\n",
       "      <td>1</td>\n",
       "      <td>1</td>\n",
       "      <td>4</td>\n",
       "      <td>114</td>\n",
       "      <td>new customer</td>\n",
       "    </tr>\n",
       "    <tr>\n",
       "      <th>4</th>\n",
       "      <td>0006fdc98a402fceb4eb0ee528f6a8d4</td>\n",
       "      <td>176</td>\n",
       "      <td>1</td>\n",
       "      <td>13.90</td>\n",
       "      <td>2</td>\n",
       "      <td>1</td>\n",
       "      <td>1</td>\n",
       "      <td>211</td>\n",
       "      <td>new customer</td>\n",
       "    </tr>\n",
       "  </tbody>\n",
       "</table>\n",
       "</div>"
      ],
      "text/plain": [
       "                 customer_unique_id  Recency  Frequency  Monetary r_score  \\\n",
       "0  0000f46a3911fa3c0805444483337064      306          1     69.00       1   \n",
       "1  0000f6ccb0745a6a4b88665a16c9f078       90          1     25.99       4   \n",
       "2  0004aac84e0df4da2b147fca70cf8255       57          1    180.00       4   \n",
       "3  0005e1862207bf6ccc02e4228effd9a0      311          1    135.00       1   \n",
       "4  0006fdc98a402fceb4eb0ee528f6a8d4      176          1     13.90       2   \n",
       "\n",
       "  f_score m_score rfm_score                 segment  \n",
       "0       1       3       113            new customer  \n",
       "1       1       1       411  probably lost customer  \n",
       "2       1       5       415  probably lost customer  \n",
       "3       1       4       114            new customer  \n",
       "4       1       1       211            new customer  "
      ]
     },
     "execution_count": 96,
     "metadata": {},
     "output_type": "execute_result"
    }
   ],
   "source": [
    "rfm.head()"
   ]
  },
  {
   "cell_type": "markdown",
   "metadata": {},
   "source": [
    "Let's make sure that a segment is assigned to all clients and no errors have occurred."
   ]
  },
  {
   "cell_type": "code",
   "execution_count": 97,
   "metadata": {},
   "outputs": [
    {
     "data": {
      "text/html": [
       "<div>\n",
       "<style scoped>\n",
       "    .dataframe tbody tr th:only-of-type {\n",
       "        vertical-align: middle;\n",
       "    }\n",
       "\n",
       "    .dataframe tbody tr th {\n",
       "        vertical-align: top;\n",
       "    }\n",
       "\n",
       "    .dataframe thead th {\n",
       "        text-align: right;\n",
       "    }\n",
       "</style>\n",
       "<table border=\"1\" class=\"dataframe\">\n",
       "  <thead>\n",
       "    <tr style=\"text-align: right;\">\n",
       "      <th></th>\n",
       "      <th>customer_unique_id</th>\n",
       "      <th>Recency</th>\n",
       "      <th>Frequency</th>\n",
       "      <th>Monetary</th>\n",
       "      <th>r_score</th>\n",
       "      <th>f_score</th>\n",
       "      <th>m_score</th>\n",
       "      <th>rfm_score</th>\n",
       "      <th>segment</th>\n",
       "    </tr>\n",
       "  </thead>\n",
       "  <tbody>\n",
       "  </tbody>\n",
       "</table>\n",
       "</div>"
      ],
      "text/plain": [
       "Empty DataFrame\n",
       "Columns: [customer_unique_id, Recency, Frequency, Monetary, r_score, f_score, m_score, rfm_score, segment]\n",
       "Index: []"
      ]
     },
     "execution_count": 97,
     "metadata": {},
     "output_type": "execute_result"
    }
   ],
   "source": [
    "error_code = '000'\n",
    "rfm.query('segment == @error_code')"
   ]
  },
  {
   "cell_type": "markdown",
   "metadata": {},
   "source": [
    "Calculating distribution of RFM segments"
   ]
  },
  {
   "cell_type": "code",
   "execution_count": 98,
   "metadata": {},
   "outputs": [
    {
     "data": {
      "text/html": [
       "<div>\n",
       "<style scoped>\n",
       "    .dataframe tbody tr th:only-of-type {\n",
       "        vertical-align: middle;\n",
       "    }\n",
       "\n",
       "    .dataframe tbody tr th {\n",
       "        vertical-align: top;\n",
       "    }\n",
       "\n",
       "    .dataframe thead th {\n",
       "        text-align: right;\n",
       "    }\n",
       "</style>\n",
       "<table border=\"1\" class=\"dataframe\">\n",
       "  <thead>\n",
       "    <tr style=\"text-align: right;\">\n",
       "      <th></th>\n",
       "      <th>description</th>\n",
       "      <th>customers</th>\n",
       "    </tr>\n",
       "  </thead>\n",
       "  <tbody>\n",
       "    <tr>\n",
       "      <th>0</th>\n",
       "      <td>new customer</td>\n",
       "      <td>22715</td>\n",
       "    </tr>\n",
       "    <tr>\n",
       "      <th>1</th>\n",
       "      <td>probably lost customer</td>\n",
       "      <td>15007</td>\n",
       "    </tr>\n",
       "    <tr>\n",
       "      <th>2</th>\n",
       "      <td>second prior focus</td>\n",
       "      <td>2100</td>\n",
       "    </tr>\n",
       "    <tr>\n",
       "      <th>3</th>\n",
       "      <td>potentially top customer</td>\n",
       "      <td>1831</td>\n",
       "    </tr>\n",
       "    <tr>\n",
       "      <th>4</th>\n",
       "      <td>potentially loyal customer</td>\n",
       "      <td>1145</td>\n",
       "    </tr>\n",
       "    <tr>\n",
       "      <th>5</th>\n",
       "      <td>first prior focus</td>\n",
       "      <td>105</td>\n",
       "    </tr>\n",
       "    <tr>\n",
       "      <th>6</th>\n",
       "      <td>top customer</td>\n",
       "      <td>96</td>\n",
       "    </tr>\n",
       "    <tr>\n",
       "      <th>7</th>\n",
       "      <td>loyal customer</td>\n",
       "      <td>18</td>\n",
       "    </tr>\n",
       "  </tbody>\n",
       "</table>\n",
       "</div>"
      ],
      "text/plain": [
       "                  description  customers\n",
       "0                new customer      22715\n",
       "1      probably lost customer      15007\n",
       "2          second prior focus       2100\n",
       "3    potentially top customer       1831\n",
       "4  potentially loyal customer       1145\n",
       "5           first prior focus        105\n",
       "6                top customer         96\n",
       "7              loyal customer         18"
      ]
     },
     "execution_count": 98,
     "metadata": {},
     "output_type": "execute_result"
    }
   ],
   "source": [
    "customers_by_segment = (rfm['segment']\n",
    "                        .value_counts()\n",
    "                        .to_frame().reset_index()\n",
    "                        .rename(columns={'index': 'description', 'segment': 'customers'})\n",
    "                       )\n",
    "customers_by_segment"
   ]
  },
  {
   "cell_type": "markdown",
   "metadata": {},
   "source": [
    "Converting amount of clints to percent"
   ]
  },
  {
   "cell_type": "code",
   "execution_count": 99,
   "metadata": {},
   "outputs": [],
   "source": [
    "customers_by_segment['customers_rate'] = (customers_by_segment['customers'] / customers_by_segment['customers'].sum()) * 100"
   ]
  },
  {
   "cell_type": "markdown",
   "metadata": {},
   "source": [
    "Visualizing"
   ]
  },
  {
   "cell_type": "code",
   "execution_count": 100,
   "metadata": {},
   "outputs": [
    {
     "data": {
      "image/png": "[encoded data removed]",
      "text/plain": [
       "<Figure size 720x360 with 1 Axes>"
      ]
     },
     "metadata": {},
     "output_type": "display_data"
    }
   ],
   "source": [
    "plt.figure(figsize=(10,5))\n",
    "\n",
    "sns.barplot(data=customers_by_segment, y='description', x='customers_rate')            \n",
    "\n",
    "plt.xlabel('Customers rate, %')\n",
    "plt.ylabel('RFM-segment')\n",
    "plt.title('Distribution of customers by RFM-segment')\n",
    "\n",
    "sns.despine()\n",
    "plt.show()"
   ]
  },
  {
   "cell_type": "markdown",
   "metadata": {},
   "source": [
    "The distribution above shows that more than 50% of customers are new, and more than 30% are potentially lost.  \n",
    "This may indicate that we sell goods that people rarely buy."
   ]
  },
  {
   "cell_type": "markdown",
   "metadata": {},
   "source": [
    "Let's give a more understandable and readable visualization.  \n",
    "To do this, we should calculate the distribution of customers by segment type for each of the RFM metrics."
   ]
  },
  {
   "cell_type": "code",
   "execution_count": 103,
   "metadata": {},
   "outputs": [],
   "source": [
    "r_dist   = rfm.groupby('r_score', as_index=False).agg(r_customers=('Recency', 'count'))\n",
    "f_dist   = rfm.groupby('f_score', as_index=False).agg(f_customers=('Frequency', 'count'))\n",
    "m_dist   = rfm.groupby('m_score', as_index=False).agg(m_customers=('Monetary', 'count'))\n",
    "rfm_dist = pd.concat([r_dist, f_dist, m_dist], axis=1)"
   ]
  },
  {
   "cell_type": "markdown",
   "metadata": {},
   "source": [
    "Visualizing"
   ]
  },
  {
   "cell_type": "code",
   "execution_count": 104,
   "metadata": {},
   "outputs": [
    {
     "data": {
      "image/png": "[encoded data removed]",
      "text/plain": [
       "<Figure size 1080x360 with 3 Axes>"
      ]
     },
     "metadata": {},
     "output_type": "display_data"
    }
   ],
   "source": [
    "params    = ['Recency', 'Frequency', 'Monetary']\n",
    "fig, axes = plt.subplots(nrows=1, ncols=metrics, figsize=(15, 5))\n",
    "\n",
    "for i in range(metrics):\n",
    "    ax     = axes[i]    \n",
    "    column = i * 2\n",
    "    \n",
    "    sns.barplot(data=rfm_dist, x=rfm_dist.iloc[:, column], y=rfm_dist.iloc[:, column + 1], ax=ax)\n",
    "        \n",
    "    ax.set_title(f'{params[i]} distribution')           \n",
    "    ax.set_xlabel(f'{params[i]} score') \n",
    "    ax.set_ylabel('Customers')       \n",
    "\n",
    "sns.despine()\n",
    "plt.subplots_adjust(wspace=0.3)            \n",
    "plt.show()"
   ]
  },
  {
   "cell_type": "markdown",
   "metadata": {},
   "source": [
    "Now the distribution of clients by groups for Recency and Monetary is much more even.  \n",
    "This corresponds to the meaning of quantiles and suits RFM analysis much better.  \n",
    "The distribution of customers by the Frequency metric is still heavily skewed to the left.  \n",
    "However, nothing can be done about this as most of our customers have only made one purchase."
   ]
  },
  {
   "cell_type": "markdown",
   "metadata": {},
   "source": [
    " "
   ]
  }
 ],
 "metadata": {
  "kernelspec": {
   "display_name": "Python 3 (ipykernel)",
   "language": "python",
   "name": "python3"
  },
  "language_info": {
   "codemirror_mode": {
    "name": "ipython",
    "version": 3
   },
   "file_extension": ".py",
   "mimetype": "text/x-python",
   "name": "python",
   "nbconvert_exporter": "python",
   "pygments_lexer": "ipython3",
   "version": "3.9.12"
  }
 },
 "nbformat": 4,
 "nbformat_minor": 4
}
